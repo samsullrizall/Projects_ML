{
  "cells": [
    {
      "cell_type": "markdown",
      "metadata": {
        "id": "qOsqJnX4GG1D"
      },
      "source": [
        "#The Battleship (Group 5)\n",
        "**Digital Skola Data Science Batch 29 Final Project**\n",
        "\n",
        "**Water Quality and Potability Prediction**\n",
        "\n",
        "In this project, we aim to predict the water potability based on a set of features. To train our machine learning model, we will use Scikit Learn and deploy to Streamlit\n",
        "\n",
        "The dataset is obtained from https://www.kaggle.com/datasets/uom190346a/water-quality-and-potability/data"
      ]
    },
    {
      "cell_type": "markdown",
      "metadata": {
        "id": "MJLw9S8HFhq3"
      },
      "source": [
        "#1. Import Libraries"
      ]
    },
    {
      "cell_type": "code",
      "execution_count": null,
      "metadata": {
        "id": "jAhPAr9Y2l2T"
      },
      "outputs": [],
      "source": [
        "# Step 1: Import relevant libraries---------------------------------------------------------\n",
        "\n",
        "#Standard libraries for data analysis:----------------------\n",
        "\n",
        "import numpy as np\n",
        "import matplotlib.pyplot as plt\n",
        "import pandas as pd\n",
        "import math\n",
        "\n",
        "\n",
        "# sklearn modules for data preprocessing-------------------------------------\n",
        "from sklearn.preprocessing import LabelEncoder, StandardScaler\n",
        "from sklearn.model_selection import train_test_split\n",
        "from sklearn.impute import SimpleImputer\n",
        "\n",
        "\n",
        "#sklearn modules for Model Selection--------------------------------------\n",
        "from xgboost import XGBClassifier\n",
        "from sklearn.linear_model import LogisticRegression\n",
        "from sklearn.tree import DecisionTreeClassifier\n",
        "from sklearn.ensemble import RandomForestClassifier\n",
        "from sklearn.neighbors import KNeighborsClassifier\n",
        "from sklearn.svm import SVC\n",
        "from sklearn.neural_network import MLPClassifier\n",
        "\n",
        "\n",
        "#sklearn modules for Model Evaluation & Improvement---------------------------\n",
        "from sklearn.metrics import confusion_matrix, accuracy_score, f1_score, precision_score, recall_score, fbeta_score\n",
        "from statsmodels.stats.outliers_influence import variance_inflation_factor\n",
        "from sklearn.model_selection import cross_val_score, GridSearchCV, ShuffleSplit, KFold\n",
        "from sklearn.metrics import confusion_matrix\n",
        "from sklearn.metrics import classification_report\n",
        "from yellowbrick.classifier import ROCAUC\n",
        "\n",
        "\n",
        "\n",
        "# from sklearn import feature_selection\n",
        "from sklearn import model_selection\n",
        "\n",
        "# from sklearn import metrics\n",
        "from sklearn.metrics import classification_report, precision_recall_curve\n",
        "from sklearn.metrics import auc, roc_auc_score, roc_curve\n",
        "from sklearn.metrics import make_scorer, recall_score, log_loss\n",
        "from sklearn.metrics import average_precision_score\n",
        "\n",
        "\n",
        "#Standard libraries for data visualization---------------------\n",
        "import seaborn as sns\n",
        "from matplotlib import pyplot\n",
        "import matplotlib.pyplot as plt\n",
        "import matplotlib.pylab as pylab\n",
        "import matplotlib\n",
        "import plotly.express as px\n",
        "%matplotlib inline\n",
        "color = sns.color_palette()\n",
        "import matplotlib.ticker as mtick\n",
        "from IPython.display import display\n",
        "pd.options.display.max_columns = None\n",
        "from pandas.plotting import scatter_matrix\n",
        "from sklearn.metrics import roc_curve\n",
        "\n",
        "#Miscellaneous Utilitiy Libraries--------------------------------------\n",
        "import random\n",
        "import os\n",
        "import re\n",
        "import sys\n",
        "import timeit\n",
        "import string\n",
        "from datetime import datetime\n",
        "\n",
        "#Libaries for Randomforest\n",
        "from sklearn.pipeline import Pipeline\n",
        "from sklearn.preprocessing import RobustScaler, PolynomialFeatures\n",
        "from sklearn.compose import ColumnTransformer\n",
        "from sklearn.model_selection import RandomizedSearchCV, train_test_split\n",
        "\n",
        "#libraries for Decission Tree\n",
        "from sklearn.tree import DecisionTreeClassifier\n",
        "from sklearn.metrics import accuracy_score\n",
        "from sklearn.tree import DecisionTreeClassifier, plot_tree\n",
        "from scipy.stats import randint\n",
        "from sklearn.metrics import classification_report\n",
        "from sklearn.model_selection import RandomizedSearchCV\n",
        "from sklearn.model_selection import RepeatedStratifiedKFold"
      ]
    },
    {
      "cell_type": "code",
      "execution_count": null,
      "metadata": {
        "id": "dVYerpsz2Q05"
      },
      "outputs": [],
      "source": [
        "# from google.colab import drive\n",
        "# drive.mount('/content/drive')"
      ]
    },
    {
      "cell_type": "code",
      "execution_count": null,
      "metadata": {
        "id": "YYcztZUJFlWA"
      },
      "outputs": [],
      "source": [
        "# Import data from github\n",
        "df = pd.read_csv('https://raw.githubusercontent.com/rene-gith/water-potability/main/water_potability.csv')"
      ]
    },
    {
      "cell_type": "code",
      "execution_count": null,
      "metadata": {
        "id": "OD6IqR2HFve5"
      },
      "outputs": [],
      "source": [
        "df"
      ]
    },
    {
      "cell_type": "markdown",
      "metadata": {
        "id": "Ix5eAHjBIbws"
      },
      "source": [
        "**Attributes Information** <br>\n",
        "pH: The pH level of the water. <br>\n",
        "Hardness: Water hardness, a measure of mineral content. <br>\n",
        "Solids: Total dissolved solids in the water. <br>\n",
        "Chloramines: Chloramines concentration in the water. <br>\n",
        "Sulfate: Sulfate concentration in the water. <br>\n",
        "Conductivity: Electrical conductivity of the water. <br>\n",
        "Organic_carbon: Organic carbon content in the water. <br>\n",
        "Trihalomethanes: Trihalomethanes concentration in the water. <br>\n",
        "Turbidity: Turbidity level, a measure of water clarity. <br>\n",
        "Potability: Target variable; indicates water potability with values 1 (potable) and 0 (not potable). <br>"
      ]
    },
    {
      "cell_type": "code",
      "execution_count": null,
      "metadata": {
        "id": "mxzqrt_yIP0G"
      },
      "outputs": [],
      "source": [
        "df.info()"
      ]
    },
    {
      "cell_type": "markdown",
      "metadata": {
        "id": "f8PNpRUG6jFp"
      },
      "source": [
        "All data types are Continuous except Potability is Nominal"
      ]
    },
    {
      "cell_type": "code",
      "execution_count": null,
      "metadata": {
        "id": "6_jRu5AfFzTX"
      },
      "outputs": [],
      "source": [
        "df.describe()"
      ]
    },
    {
      "cell_type": "code",
      "execution_count": null,
      "metadata": {
        "id": "ngXF69RVwmyu"
      },
      "outputs": [],
      "source": [
        "df.isna().sum()"
      ]
    },
    {
      "cell_type": "code",
      "execution_count": null,
      "metadata": {
        "id": "A9PG1kNsF0vX"
      },
      "outputs": [],
      "source": [
        "# Check target feature\n",
        "\n",
        "plt.figure(figsize=(5,5))\n",
        "plt.title('Overall Potability Rate', fontsize=15)\n",
        "sns.countplot(data=df, x=df['Potability'], color='skyblue', edgecolor='black')\n",
        "\n",
        "plt.show()"
      ]
    },
    {
      "cell_type": "markdown",
      "metadata": {
        "id": "tZeR61jC7E5x"
      },
      "source": [
        "Data is imbalance. We will later use SimpleImputer to balance out"
      ]
    },
    {
      "cell_type": "markdown",
      "metadata": {
        "id": "iUHU-HKc_Bqv"
      },
      "source": [
        "# Exploratory Data Analysis"
      ]
    },
    {
      "cell_type": "code",
      "execution_count": null,
      "metadata": {
        "id": "eUDjoG6p8GTy"
      },
      "outputs": [],
      "source": [
        "# Check distribution of each feature with Hist Plot\n",
        "\n",
        "plt.figure(figsize=(16, 9))\n",
        "plt.subplots_adjust(wspace=0.3, hspace=0.4)\n",
        "\n",
        "\n",
        "# Loop through each column in the dataset\n",
        "o = 1\n",
        "for i, col in enumerate(df.columns):\n",
        "    plt.subplot(4, 4, o)\n",
        "    sns.histplot(data=df, x=col, kde=True, color='skyblue', edgecolor='black', bins=20)\n",
        "    plt.title(f'Distribution of {col}')\n",
        "    o += 1\n",
        "\n",
        "# Display the plots\n",
        "plt.tight_layout()\n",
        "plt.show()"
      ]
    },
    {
      "cell_type": "code",
      "execution_count": null,
      "metadata": {
        "id": "Hbnsh24VwuZu"
      },
      "outputs": [],
      "source": [
        "# Check distribution of each feature with Box Plot\n",
        "\n",
        "plt.figure(figsize=(16, 9))\n",
        "plt.subplots_adjust(wspace=0.3, hspace=0.4)\n",
        "\n",
        "\n",
        "# Loop through each column in the dataset\n",
        "o = 1\n",
        "for i, col in enumerate(df.columns):\n",
        "    plt.subplot(3, 4, o)\n",
        "    sns.boxplot(data=df, x=col, color='skyblue')\n",
        "    plt.title(f'Distribution of {col}')\n",
        "    o += 1\n",
        "\n",
        "# Display the plots\n",
        "plt.tight_layout()\n",
        "plt.show()"
      ]
    },
    {
      "cell_type": "markdown",
      "metadata": {
        "id": "WWD9sH9Z_0_k"
      },
      "source": [
        "Generally speaking, all features are normally distributed except for Solids."
      ]
    },
    {
      "cell_type": "code",
      "execution_count": null,
      "metadata": {
        "id": "SAaNs3lUABO1"
      },
      "outputs": [],
      "source": [
        "# Check correlation of each features\n",
        "plt.figure(figsize=(16,9))\n",
        "sns.heatmap(df.corr(), cbar=True, square= False, fmt='.2f', annot=True, annot_kws={'size':15}, cmap='Blues')\n",
        "plt.title(\"Correlation Matrix Heatmap\", fontdict={'size': 20})\n",
        "plt.xticks(fontsize=18, rotation=45)\n",
        "plt.yticks(fontsize=18)\n",
        "plt.show()"
      ]
    },
    {
      "cell_type": "markdown",
      "metadata": {
        "id": "m3ZHQDAPFVdt"
      },
      "source": [
        "All features seems to have low correlation with Potability.\n",
        "We will explore with Non-Linear model"
      ]
    },
    {
      "cell_type": "markdown",
      "metadata": {
        "id": "x8UAbWInIv2k"
      },
      "source": [
        "# Feature Engineering"
      ]
    },
    {
      "cell_type": "code",
      "execution_count": null,
      "metadata": {
        "id": "SsdRhy_PIQEv"
      },
      "outputs": [],
      "source": [
        "# Based on the histplot, we can conclude that Solids feature needs to be engineered to be normally distributed\n",
        "plt.figure(figsize=(5,5))\n",
        "\n",
        "sns.boxplot(data=df,x='Solids',palette=\"Blues\")\n",
        "plt.title('Solids',fontdict={'size': 20})\n",
        "plt.xticks(fontsize=12)\n",
        "plt.xlabel('Solids', fontsize=15)\n",
        "plt.show()"
      ]
    },
    {
      "cell_type": "code",
      "execution_count": null,
      "metadata": {
        "id": "lZ356McAJKtb"
      },
      "outputs": [],
      "source": [
        "# Outliers cleaning function\n",
        "\n",
        "def outlier_analysis_df(df, col):\n",
        "    outlier_dict = {}\n",
        "\n",
        "    # Selected column\n",
        "    column_data = df[col]\n",
        "\n",
        "    sorted_data = sorted(column_data)\n",
        "\n",
        "    # Calculate Q1 and Q3\n",
        "    q1 = np.percentile(sorted_data, 25)\n",
        "    q3 = np.percentile(sorted_data, 75)\n",
        "\n",
        "    # IQR (Interquartile Range)\n",
        "    iqr = q3 - q1\n",
        "\n",
        "    # Lower and Upper outlier sınırlarını hesapla\n",
        "    alt_sinir = q1 - 1.5 * iqr\n",
        "    ust_sinir = q3 + 1.5 * iqr\n",
        "\n",
        "    # Find Outliers\n",
        "    outliers = [x for x in sorted_data if x < alt_sinir or x > ust_sinir]\n",
        "\n",
        "\n",
        "    df_copy = df.copy()\n",
        "    df_copy[col] = np.where((df_copy[col] < alt_sinir) | (df_copy[col] > ust_sinir), (q1 + q3) / 2, df_copy[col])\n",
        "\n",
        "    outlier_dict[col] = outliers\n",
        "\n",
        "    return df_copy, outlier_dict"
      ]
    },
    {
      "cell_type": "code",
      "execution_count": null,
      "metadata": {
        "id": "MojxpHhlJoZa"
      },
      "outputs": [],
      "source": [
        "df_without_outliers, outliers_dict = outlier_analysis_df(df, 'Solids')"
      ]
    },
    {
      "cell_type": "code",
      "execution_count": null,
      "metadata": {
        "id": "6eXsN_R2uKzS"
      },
      "outputs": [],
      "source": [
        "# Based on the histplot, we can conclude that Solids feature needs to be engineered to be normally distributed\n",
        "plt.figure(figsize=(10,5))\n",
        "sns.boxplot(data=df_without_outliers,x='Solids',palette=\"Blues\")\n",
        "plt.title('Solids',fontdict={'size': 20})\n",
        "plt.xticks(fontsize=12)\n",
        "plt.xlabel('Solids', fontsize=15)\n",
        "plt.show()"
      ]
    },
    {
      "cell_type": "code",
      "execution_count": null,
      "metadata": {
        "id": "f92f6IBR5F79"
      },
      "outputs": [],
      "source": [
        "# Change df_without_outliers back to df\n",
        "df = df_without_outliers"
      ]
    },
    {
      "cell_type": "code",
      "execution_count": null,
      "metadata": {
        "id": "O2yIlJrZJx6e"
      },
      "outputs": [],
      "source": [
        "df.isna().sum()"
      ]
    },
    {
      "cell_type": "code",
      "execution_count": null,
      "metadata": {
        "id": "27kDlADDFEl9"
      },
      "outputs": [],
      "source": [
        "# Check the NaN of the train set by ploting percent of missing values per column\n",
        "column_with_nan = df.columns[df.isnull().any()]\n",
        "column_name = []\n",
        "percent_nan = []\n",
        "\n",
        "for i in column_with_nan:\n",
        "    column_name.append(i)\n",
        "    percent_nan.append(round(df[i].isnull().sum()*100/len(df), 2))\n",
        "\n",
        "tab = pd.DataFrame(column_name, columns=[\"Column\"])\n",
        "tab[\"Percent_NaN\"] = percent_nan\n",
        "tab.sort_values(by=[\"Percent_NaN\"], ascending=False, inplace=True)\n",
        "\n",
        "\n",
        "# Define figure parameters\n",
        "sns.set(rc={\"figure.figsize\": (10, 5)})\n",
        "sns.set_style(\"whitegrid\")\n",
        "\n",
        "# Plot results\n",
        "p = sns.barplot(\n",
        "    x=\"Percent_NaN\",\n",
        "    y=\"Column\",\n",
        "    data=tab,\n",
        "    edgecolor=\"black\",\n",
        "    color=\"skyblue\")\n",
        "\n",
        "p.set_title(\"Percent of NaN per column of the dataset\\n\", fontsize=20)\n",
        "p.set_xlabel(\"\\nPercent of NaN (%)\", fontsize=15)\n",
        "p.set_ylabel(\"Features\", fontsize=15)\n",
        "plt.xticks(fontsize=15)\n",
        "plt.yticks(fontsize=15)"
      ]
    },
    {
      "cell_type": "code",
      "execution_count": null,
      "metadata": {
        "id": "PG-rh4Be84VQ"
      },
      "outputs": [],
      "source": [
        "# List NaN Columns\n",
        "nan_columns = df.columns[df.isna().any()]\n",
        "nan_columns"
      ]
    },
    {
      "cell_type": "code",
      "execution_count": null,
      "metadata": {
        "id": "SS630s1Q_OB0"
      },
      "outputs": [],
      "source": [
        "# Check distribution of each NaN feature\n",
        "\n",
        "plt.figure(figsize=(10, 10))\n",
        "plt.subplots_adjust(wspace=0.3, hspace=0.4)\n",
        "\n",
        "# Loop through each column in the dataset\n",
        "o = 1\n",
        "for i, col in enumerate(nan_columns):\n",
        "    plt.subplot(4, 2, o)\n",
        "    sns.histplot(data=df, x=col, kde=True, color='skyblue', edgecolor='black', bins=20)\n",
        "    plt.title(f'Distribution of {col}')\n",
        "    o += 1\n",
        "\n",
        "# Display the plots\n",
        "plt.tight_layout()\n",
        "plt.show()"
      ]
    },
    {
      "cell_type": "markdown",
      "metadata": {
        "id": "RYDnwPbsAdcK"
      },
      "source": [
        "ph and Trihalomethanes has normal distribution = we use mean or median\n",
        "\n",
        "Sulfate has left skew = we use mean\n",
        "\n",
        "To simplify, all feature will use mean."
      ]
    },
    {
      "cell_type": "markdown",
      "metadata": {
        "id": "YQvWKS71KJJz"
      },
      "source": [
        "# Fill NaN with SimpleImputer Mean"
      ]
    },
    {
      "cell_type": "code",
      "execution_count": null,
      "metadata": {
        "id": "detz_PDECfCs"
      },
      "outputs": [],
      "source": [
        "# Imputation of missing values (NaNs) with SimpleImputer with Mean Strategy\n",
        "my_imputer = SimpleImputer(strategy=\"mean\")\n",
        "df_imputed = pd.DataFrame(my_imputer.fit_transform(df))\n",
        "df_imputed.head()"
      ]
    },
    {
      "cell_type": "code",
      "execution_count": null,
      "metadata": {
        "id": "jYEXPF1mGLN2"
      },
      "outputs": [],
      "source": [
        "df_imputed.columns = df.columns\n",
        "df_imputed.head()"
      ]
    },
    {
      "cell_type": "code",
      "execution_count": null,
      "metadata": {
        "id": "E4iRTYdeGcS6"
      },
      "outputs": [],
      "source": [
        "df_imputed.isna().sum()"
      ]
    },
    {
      "cell_type": "code",
      "execution_count": null,
      "metadata": {
        "id": "1b0drIESG5tZ"
      },
      "outputs": [],
      "source": [
        "# Let's check the distribution of each imputed feature before and after imputation\n",
        "\n",
        "# Define figure parameters\n",
        "sns.set(rc={\"figure.figsize\": (16, 9)})\n",
        "sns.set_style(\"whitegrid\")\n",
        "fig, axes = plt.subplots(3, 2)\n",
        "\n",
        "# Plot the results\n",
        "for feature, fig_pos in zip(['ph', 'Sulfate', 'Trihalomethanes'], [0, 1, 2]):\n",
        "\n",
        "    \"\"\"Features distribution before and after imputation\"\"\"\n",
        "\n",
        "    # before imputation\n",
        "    plt.set_title('Before Imputation')\n",
        "    p = sns.histplot(ax=axes[fig_pos, 0], x=df[feature],\n",
        "                     kde=True, bins=30, color=\"darkorange\", edgecolor=\"black\")\n",
        "\n",
        "    # after imputation\n",
        "    q = sns.histplot(ax=axes[fig_pos, 1], x=df_imputed[feature],\n",
        "                     kde=True, bins=30, color=\"skyblue\", edgecolor=\"black\")\n",
        "    q.set_title('After Imputation', fontsize=15)\n",
        "\n",
        "plt.subplots_adjust(hspace=0.7)\n",
        "plt.show()"
      ]
    },
    {
      "cell_type": "markdown",
      "metadata": {
        "id": "8eQdZz9HOVgY"
      },
      "source": [
        "The distribution did not change after imputation, we will use this data"
      ]
    },
    {
      "cell_type": "markdown",
      "metadata": {
        "id": "ReqZBgeU0uo5"
      },
      "source": [
        "#Handling Data"
      ]
    },
    {
      "cell_type": "markdown",
      "metadata": {
        "id": "FBlCFBGm897b"
      },
      "source": [
        "##Split Dataset Into Predictor and Response Variables"
      ]
    },
    {
      "cell_type": "code",
      "execution_count": null,
      "metadata": {
        "id": "ZHjjLs2rz419"
      },
      "outputs": [],
      "source": [
        "# Split dataset into dependent and independent variables\n",
        "\n",
        "#identify predictor and response variable:\n",
        "response = df_imputed[\"Potability\"]\n",
        "predictor = df_imputed.drop(columns=[\"Potability\"])"
      ]
    },
    {
      "cell_type": "markdown",
      "metadata": {
        "id": "wKYw-NQ-9DZ0"
      },
      "source": [
        "##Generate Training and Test Dataset of Predictor and Response Variables"
      ]
    },
    {
      "cell_type": "code",
      "execution_count": null,
      "metadata": {
        "colab": {
          "base_uri": "https://localhost:8080/"
        },
        "id": "uX93KayG9Hzz",
        "outputId": "7dc86fd9-ec7e-4cf3-cee9-65fbf26819b9"
      },
      "outputs": [
        {
          "name": "stdout",
          "output_type": "stream",
          "text": [
            " X_train dataset:  (2620, 9)\n",
            " y_train dataset:  (2620,)\n",
            " X_test dataset:  (656, 9)\n",
            " y_test dataset:  (656,)\n"
          ]
        }
      ],
      "source": [
        "# Generate training and test datasets of dependent and independent variables\n",
        "X_train, X_test, y_train, y_test = train_test_split(predictor, response,\n",
        "                                                    stratify=response,\n",
        "                                                    test_size = 0.2,\n",
        "                                                    random_state = 0)\n",
        "\n",
        "#to resolve any class imbalance - use stratify parameter\n",
        "print(\" X_train dataset: \", X_train.shape)\n",
        "print(\" y_train dataset: \", y_train.shape)\n",
        "print(\" X_test dataset: \", X_test.shape)\n",
        "print(\" y_test dataset: \", y_test.shape)"
      ]
    },
    {
      "cell_type": "markdown",
      "metadata": {
        "id": "Hw7f-qPf9SwY"
      },
      "source": [
        "##Handling Imbalance with SMOTE"
      ]
    },
    {
      "cell_type": "code",
      "execution_count": null,
      "metadata": {
        "colab": {
          "base_uri": "https://localhost:8080/"
        },
        "id": "ngzRHC7y9V3b",
        "outputId": "aade929b-006e-4cd4-d7e6-a32edbdfad63"
      },
      "outputs": [
        {
          "name": "stdout",
          "output_type": "stream",
          "text": [
            "Before OverSampling, counts of label '1': 1022\n",
            "Before OverSampling, counts of label '0': 1598 \n",
            "\n",
            "After OverSampling, the shape of train_X: (3196, 9)\n",
            "After OverSampling, the shape of train_y: (3196,)\n",
            "\n",
            "After OverSampling, counts of label '1' y_train_resampled: 1598\n",
            "After OverSampling, counts of label '0' y_train_resampled: 1598 \n",
            "\n",
            "After OverSampling, counts of label '1' y_test: 256\n",
            "After OverSampling, counts of label '0' y_test: 400\n"
          ]
        }
      ],
      "source": [
        "from imblearn.over_sampling import SMOTE\n",
        "print(\"Before OverSampling, counts of label '1': {}\".format(sum(y_train==1)))\n",
        "print(\"Before OverSampling, counts of label '0': {} \\n\".format(sum(y_train==0)))\n",
        "\n",
        "sm = SMOTE(random_state=0)\n",
        "X_train_resampled, y_train_resampled = sm.fit_resample(X_train, y_train)\n",
        "\n",
        "print('After OverSampling, the shape of train_X: {}'.format(X_train_resampled.shape))\n",
        "print('After OverSampling, the shape of train_y: {}\\n'.format(y_train_resampled.shape))\n",
        "print(\"After OverSampling, counts of label '1' y_train_resampled: {}\".format(sum(y_train_resampled==1)))\n",
        "print(\"After OverSampling, counts of label '0' y_train_resampled: {} \\n\".format(sum(y_train_resampled==0)))\n",
        "\n",
        "print(\"After OverSampling, counts of label '1' y_test: {}\".format(sum(y_test==1)))\n",
        "print(\"After OverSampling, counts of label '0' y_test: {}\".format(sum(y_test==0)))"
      ]
    },
    {
      "cell_type": "markdown",
      "metadata": {
        "id": "sdooJtd5gBPW"
      },
      "source": [
        "##Feature Scaling"
      ]
    },
    {
      "cell_type": "code",
      "execution_count": null,
      "metadata": {
        "id": "500_03i5fwn3"
      },
      "outputs": [],
      "source": [
        "# Feature Scaling\n",
        "\n",
        "sc_X = StandardScaler()\n",
        "X_train2 = pd.DataFrame(sc_X.fit_transform(X_train_resampled))\n",
        "X_train2.columns = X_train_resampled.columns.values\n",
        "X_train2.index = X_train_resampled.index.values\n",
        "X_train_resampled = X_train2\n",
        "\n",
        "X_test2 = pd.DataFrame(sc_X.transform(X_test))\n",
        "X_test2.columns = X_test.columns.values\n",
        "X_test2.index = X_test.index.values\n",
        "X_test = X_test2"
      ]
    },
    {
      "cell_type": "markdown",
      "metadata": {
        "id": "vLHvpj1t2pqm"
      },
      "source": [
        "# Model"
      ]
    },
    {
      "cell_type": "code",
      "execution_count": null,
      "metadata": {
        "colab": {
          "base_uri": "https://localhost:8080/",
          "height": 237
        },
        "id": "zwCMc6Hs8BEt",
        "outputId": "3fc2f05f-912f-4619-e191-773035f3ecee"
      },
      "outputs": [
        {
          "data": {
            "text/html": [
              "\n",
              "  <div id=\"df-54073c82-7ef8-4854-be8c-b59ff580bbdb\" class=\"colab-df-container\">\n",
              "    <div>\n",
              "<style scoped>\n",
              "    .dataframe tbody tr th:only-of-type {\n",
              "        vertical-align: middle;\n",
              "    }\n",
              "\n",
              "    .dataframe tbody tr th {\n",
              "        vertical-align: top;\n",
              "    }\n",
              "\n",
              "    .dataframe thead th {\n",
              "        text-align: right;\n",
              "    }\n",
              "</style>\n",
              "<table border=\"1\" class=\"dataframe\">\n",
              "  <thead>\n",
              "    <tr style=\"text-align: right;\">\n",
              "      <th></th>\n",
              "      <th>Algorithm</th>\n",
              "      <th>ROC AUC Mean</th>\n",
              "      <th>ROC AUC STD</th>\n",
              "      <th>Accuracy Mean</th>\n",
              "      <th>Accuracy STD</th>\n",
              "    </tr>\n",
              "  </thead>\n",
              "  <tbody>\n",
              "    <tr>\n",
              "      <th>3</th>\n",
              "      <td>Random Forest</td>\n",
              "      <td>79.03</td>\n",
              "      <td>5.78</td>\n",
              "      <td>71.28</td>\n",
              "      <td>4.88</td>\n",
              "    </tr>\n",
              "    <tr>\n",
              "      <th>5</th>\n",
              "      <td>XGBoost</td>\n",
              "      <td>74.64</td>\n",
              "      <td>5.36</td>\n",
              "      <td>67.93</td>\n",
              "      <td>4.60</td>\n",
              "    </tr>\n",
              "    <tr>\n",
              "      <th>1</th>\n",
              "      <td>Support Vector Classifier</td>\n",
              "      <td>73.24</td>\n",
              "      <td>3.02</td>\n",
              "      <td>66.93</td>\n",
              "      <td>2.10</td>\n",
              "    </tr>\n",
              "    <tr>\n",
              "      <th>0</th>\n",
              "      <td>MLP Classifier</td>\n",
              "      <td>72.76</td>\n",
              "      <td>3.11</td>\n",
              "      <td>65.99</td>\n",
              "      <td>2.47</td>\n",
              "    </tr>\n",
              "    <tr>\n",
              "      <th>4</th>\n",
              "      <td>K-Nearest Neighbor</td>\n",
              "      <td>69.24</td>\n",
              "      <td>3.63</td>\n",
              "      <td>64.33</td>\n",
              "      <td>3.14</td>\n",
              "    </tr>\n",
              "    <tr>\n",
              "      <th>2</th>\n",
              "      <td>Decision Tree</td>\n",
              "      <td>62.58</td>\n",
              "      <td>4.04</td>\n",
              "      <td>62.58</td>\n",
              "      <td>4.04</td>\n",
              "    </tr>\n",
              "  </tbody>\n",
              "</table>\n",
              "</div>\n",
              "    <div class=\"colab-df-buttons\">\n",
              "\n",
              "  <div class=\"colab-df-container\">\n",
              "    <button class=\"colab-df-convert\" onclick=\"convertToInteractive('df-54073c82-7ef8-4854-be8c-b59ff580bbdb')\"\n",
              "            title=\"Convert this dataframe to an interactive table.\"\n",
              "            style=\"display:none;\">\n",
              "\n",
              "  <svg xmlns=\"http://www.w3.org/2000/svg\" height=\"24px\" viewBox=\"0 -960 960 960\">\n",
              "    <path d=\"M120-120v-720h720v720H120Zm60-500h600v-160H180v160Zm220 220h160v-160H400v160Zm0 220h160v-160H400v160ZM180-400h160v-160H180v160Zm440 0h160v-160H620v160ZM180-180h160v-160H180v160Zm440 0h160v-160H620v160Z\"/>\n",
              "  </svg>\n",
              "    </button>\n",
              "\n",
              "  <style>\n",
              "    .colab-df-container {\n",
              "      display:flex;\n",
              "      gap: 12px;\n",
              "    }\n",
              "\n",
              "    .colab-df-convert {\n",
              "      background-color: #E8F0FE;\n",
              "      border: none;\n",
              "      border-radius: 50%;\n",
              "      cursor: pointer;\n",
              "      display: none;\n",
              "      fill: #1967D2;\n",
              "      height: 32px;\n",
              "      padding: 0 0 0 0;\n",
              "      width: 32px;\n",
              "    }\n",
              "\n",
              "    .colab-df-convert:hover {\n",
              "      background-color: #E2EBFA;\n",
              "      box-shadow: 0px 1px 2px rgba(60, 64, 67, 0.3), 0px 1px 3px 1px rgba(60, 64, 67, 0.15);\n",
              "      fill: #174EA6;\n",
              "    }\n",
              "\n",
              "    .colab-df-buttons div {\n",
              "      margin-bottom: 4px;\n",
              "    }\n",
              "\n",
              "    [theme=dark] .colab-df-convert {\n",
              "      background-color: #3B4455;\n",
              "      fill: #D2E3FC;\n",
              "    }\n",
              "\n",
              "    [theme=dark] .colab-df-convert:hover {\n",
              "      background-color: #434B5C;\n",
              "      box-shadow: 0px 1px 3px 1px rgba(0, 0, 0, 0.15);\n",
              "      filter: drop-shadow(0px 1px 2px rgba(0, 0, 0, 0.3));\n",
              "      fill: #FFFFFF;\n",
              "    }\n",
              "  </style>\n",
              "\n",
              "    <script>\n",
              "      const buttonEl =\n",
              "        document.querySelector('#df-54073c82-7ef8-4854-be8c-b59ff580bbdb button.colab-df-convert');\n",
              "      buttonEl.style.display =\n",
              "        google.colab.kernel.accessAllowed ? 'block' : 'none';\n",
              "\n",
              "      async function convertToInteractive(key) {\n",
              "        const element = document.querySelector('#df-54073c82-7ef8-4854-be8c-b59ff580bbdb');\n",
              "        const dataTable =\n",
              "          await google.colab.kernel.invokeFunction('convertToInteractive',\n",
              "                                                    [key], {});\n",
              "        if (!dataTable) return;\n",
              "\n",
              "        const docLinkHtml = 'Like what you see? Visit the ' +\n",
              "          '<a target=\"_blank\" href=https://colab.research.google.com/notebooks/data_table.ipynb>data table notebook</a>'\n",
              "          + ' to learn more about interactive tables.';\n",
              "        element.innerHTML = '';\n",
              "        dataTable['output_type'] = 'display_data';\n",
              "        await google.colab.output.renderOutput(dataTable, element);\n",
              "        const docLink = document.createElement('div');\n",
              "        docLink.innerHTML = docLinkHtml;\n",
              "        element.appendChild(docLink);\n",
              "      }\n",
              "    </script>\n",
              "  </div>\n",
              "\n",
              "\n",
              "<div id=\"df-3404c62e-68f5-4bcf-a7af-f46671755aef\">\n",
              "  <button class=\"colab-df-quickchart\" onclick=\"quickchart('df-3404c62e-68f5-4bcf-a7af-f46671755aef')\"\n",
              "            title=\"Suggest charts.\"\n",
              "            style=\"display:none;\">\n",
              "\n",
              "<svg xmlns=\"http://www.w3.org/2000/svg\" height=\"24px\"viewBox=\"0 0 24 24\"\n",
              "     width=\"24px\">\n",
              "    <g>\n",
              "        <path d=\"M19 3H5c-1.1 0-2 .9-2 2v14c0 1.1.9 2 2 2h14c1.1 0 2-.9 2-2V5c0-1.1-.9-2-2-2zM9 17H7v-7h2v7zm4 0h-2V7h2v10zm4 0h-2v-4h2v4z\"/>\n",
              "    </g>\n",
              "</svg>\n",
              "  </button>\n",
              "\n",
              "<style>\n",
              "  .colab-df-quickchart {\n",
              "      --bg-color: #E8F0FE;\n",
              "      --fill-color: #1967D2;\n",
              "      --hover-bg-color: #E2EBFA;\n",
              "      --hover-fill-color: #174EA6;\n",
              "      --disabled-fill-color: #AAA;\n",
              "      --disabled-bg-color: #DDD;\n",
              "  }\n",
              "\n",
              "  [theme=dark] .colab-df-quickchart {\n",
              "      --bg-color: #3B4455;\n",
              "      --fill-color: #D2E3FC;\n",
              "      --hover-bg-color: #434B5C;\n",
              "      --hover-fill-color: #FFFFFF;\n",
              "      --disabled-bg-color: #3B4455;\n",
              "      --disabled-fill-color: #666;\n",
              "  }\n",
              "\n",
              "  .colab-df-quickchart {\n",
              "    background-color: var(--bg-color);\n",
              "    border: none;\n",
              "    border-radius: 50%;\n",
              "    cursor: pointer;\n",
              "    display: none;\n",
              "    fill: var(--fill-color);\n",
              "    height: 32px;\n",
              "    padding: 0;\n",
              "    width: 32px;\n",
              "  }\n",
              "\n",
              "  .colab-df-quickchart:hover {\n",
              "    background-color: var(--hover-bg-color);\n",
              "    box-shadow: 0 1px 2px rgba(60, 64, 67, 0.3), 0 1px 3px 1px rgba(60, 64, 67, 0.15);\n",
              "    fill: var(--button-hover-fill-color);\n",
              "  }\n",
              "\n",
              "  .colab-df-quickchart-complete:disabled,\n",
              "  .colab-df-quickchart-complete:disabled:hover {\n",
              "    background-color: var(--disabled-bg-color);\n",
              "    fill: var(--disabled-fill-color);\n",
              "    box-shadow: none;\n",
              "  }\n",
              "\n",
              "  .colab-df-spinner {\n",
              "    border: 2px solid var(--fill-color);\n",
              "    border-color: transparent;\n",
              "    border-bottom-color: var(--fill-color);\n",
              "    animation:\n",
              "      spin 1s steps(1) infinite;\n",
              "  }\n",
              "\n",
              "  @keyframes spin {\n",
              "    0% {\n",
              "      border-color: transparent;\n",
              "      border-bottom-color: var(--fill-color);\n",
              "      border-left-color: var(--fill-color);\n",
              "    }\n",
              "    20% {\n",
              "      border-color: transparent;\n",
              "      border-left-color: var(--fill-color);\n",
              "      border-top-color: var(--fill-color);\n",
              "    }\n",
              "    30% {\n",
              "      border-color: transparent;\n",
              "      border-left-color: var(--fill-color);\n",
              "      border-top-color: var(--fill-color);\n",
              "      border-right-color: var(--fill-color);\n",
              "    }\n",
              "    40% {\n",
              "      border-color: transparent;\n",
              "      border-right-color: var(--fill-color);\n",
              "      border-top-color: var(--fill-color);\n",
              "    }\n",
              "    60% {\n",
              "      border-color: transparent;\n",
              "      border-right-color: var(--fill-color);\n",
              "    }\n",
              "    80% {\n",
              "      border-color: transparent;\n",
              "      border-right-color: var(--fill-color);\n",
              "      border-bottom-color: var(--fill-color);\n",
              "    }\n",
              "    90% {\n",
              "      border-color: transparent;\n",
              "      border-bottom-color: var(--fill-color);\n",
              "    }\n",
              "  }\n",
              "</style>\n",
              "\n",
              "  <script>\n",
              "    async function quickchart(key) {\n",
              "      const quickchartButtonEl =\n",
              "        document.querySelector('#' + key + ' button');\n",
              "      quickchartButtonEl.disabled = true;  // To prevent multiple clicks.\n",
              "      quickchartButtonEl.classList.add('colab-df-spinner');\n",
              "      try {\n",
              "        const charts = await google.colab.kernel.invokeFunction(\n",
              "            'suggestCharts', [key], {});\n",
              "      } catch (error) {\n",
              "        console.error('Error during call to suggestCharts:', error);\n",
              "      }\n",
              "      quickchartButtonEl.classList.remove('colab-df-spinner');\n",
              "      quickchartButtonEl.classList.add('colab-df-quickchart-complete');\n",
              "    }\n",
              "    (() => {\n",
              "      let quickchartButtonEl =\n",
              "        document.querySelector('#df-3404c62e-68f5-4bcf-a7af-f46671755aef button');\n",
              "      quickchartButtonEl.style.display =\n",
              "        google.colab.kernel.accessAllowed ? 'block' : 'none';\n",
              "    })();\n",
              "  </script>\n",
              "</div>\n",
              "    </div>\n",
              "  </div>\n"
            ],
            "text/plain": [
              "                   Algorithm  ROC AUC Mean  ROC AUC STD  Accuracy Mean  \\\n",
              "3              Random Forest         79.03         5.78          71.28   \n",
              "5                    XGBoost         74.64         5.36          67.93   \n",
              "1  Support Vector Classifier         73.24         3.02          66.93   \n",
              "0             MLP Classifier         72.76         3.11          65.99   \n",
              "4         K-Nearest Neighbor         69.24         3.63          64.33   \n",
              "2              Decision Tree         62.58         4.04          62.58   \n",
              "\n",
              "   Accuracy STD  \n",
              "3          4.88  \n",
              "5          4.60  \n",
              "1          2.10  \n",
              "0          2.47  \n",
              "4          3.14  \n",
              "2          4.04  "
            ]
          },
          "execution_count": 94,
          "metadata": {},
          "output_type": "execute_result"
        }
      ],
      "source": [
        "from sklearn.neural_network import MLPClassifier\n",
        "#Compare Baseline Classification Algorithms Using Accuracy and ROC AUC Mean Metrics\n",
        "models = []\n",
        "\n",
        "models.append(('MLP Classifier', MLPClassifier(hidden_layer_sizes=(50), max_iter=1000, random_state=0)))\n",
        "\n",
        "models.append(('Support Vector Classifier', SVC(probability=True, random_state=0)))\n",
        "\n",
        "models.append(('Decision Tree', DecisionTreeClassifier(criterion='entropy', random_state=0)))\n",
        "\n",
        "models.append(('Random Forest', RandomForestClassifier(n_estimators=100, criterion='entropy', random_state=0)))\n",
        "\n",
        "models.append(('K-Nearest Neighbor', KNeighborsClassifier(n_neighbors=5)))\n",
        "\n",
        "models.append(('XGBoost', XGBClassifier(random_state=0)))\n",
        "\n",
        "#Evaluating Model Results:\n",
        "acc_results = []\n",
        "auc_results = []\n",
        "names = []\n",
        "# set table to populate with performance results\n",
        "col = ['Algorithm', 'ROC AUC Mean', 'ROC AUC STD',\n",
        "       'Accuracy Mean', 'Accuracy STD']\n",
        "\n",
        "model_results = pd.DataFrame(columns=col)\n",
        "i = 0\n",
        "# evaluate each model using k-fold cross-validation\n",
        "for name, model in models:\n",
        "    kfold = model_selection.StratifiedKFold(n_splits=10)  # 10-fold cross-validation\n",
        "\n",
        "    cv_acc_results = model_selection.cross_val_score(\n",
        "    model, X_train_resampled, y_train_resampled, cv=kfold, scoring='accuracy')\n",
        "\n",
        "    cv_auc_results = model_selection.cross_val_score(\n",
        "    model, X_train_resampled, y_train_resampled, cv=kfold, scoring='roc_auc')\n",
        "\n",
        "\n",
        "    acc_results.append(cv_acc_results)\n",
        "    auc_results.append(cv_auc_results)\n",
        "    names.append(name)\n",
        "    model_results.loc[i] = [name,\n",
        "                         round(cv_auc_results.mean()*100, 2),\n",
        "                         round(cv_auc_results.std()*100, 2),\n",
        "                         round(cv_acc_results.mean()*100, 2),\n",
        "                         round(cv_acc_results.std()*100, 2)\n",
        "                         ]\n",
        "    i += 1\n",
        "\n",
        "model_results.sort_values(by=['ROC AUC Mean'], ascending=False)"
      ]
    },
    {
      "cell_type": "code",
      "execution_count": null,
      "metadata": {
        "id": "6Pgjm8wojDpM"
      },
      "outputs": [],
      "source": [
        "# Save the model results into lists\n",
        "model_list = []\n",
        "accuracy_list = []\n",
        "precision_list = []\n",
        "recall_list = []\n",
        "f1_Score_list=[]"
      ]
    },
    {
      "cell_type": "markdown",
      "metadata": {
        "id": "HMVvR5Sp_iOa"
      },
      "source": [
        "###Multi-Layer Perceptron Classifier"
      ]
    },
    {
      "cell_type": "code",
      "execution_count": null,
      "metadata": {
        "colab": {
          "base_uri": "https://localhost:8080/"
        },
        "id": "jqA-RGtc_oLB",
        "outputId": "cfeb8027-a45d-4577-f26b-48ac7b96bd10"
      },
      "outputs": [
        {
          "name": "stdout",
          "output_type": "stream",
          "text": [
            "  Model  Accuracy  Precision   Recall  F1 Score\n",
            "0   MLP  0.606707    0.49635  0.53125  0.513208\n"
          ]
        }
      ],
      "source": [
        "# Inisialization MLP\n",
        "mlp = MLPClassifier(hidden_layer_sizes=(50), max_iter=1000, random_state=0)\n",
        "\n",
        "# Model training\n",
        "mlp.fit(X_train_resampled, y_train_resampled)\n",
        "\n",
        "# Predicting the Test set results\n",
        "y_pred = mlp.predict(X_test)\n",
        "\n",
        "#Evaluate results\n",
        "acc = accuracy_score(y_test, y_pred )\n",
        "prec = precision_score(y_test, y_pred )\n",
        "rec = recall_score(y_test, y_pred )\n",
        "f1 = f1_score(y_test, y_pred )\n",
        "\n",
        "model_results = pd.DataFrame([['MLP', acc, prec, rec, f1]],\n",
        "               columns = ['Model', 'Accuracy', 'Precision', 'Recall', 'F1 Score'])\n",
        "\n",
        "results = model_results.sort_values([\"Precision\", \"Recall\"], ascending = False)\n",
        "print (results)"
      ]
    },
    {
      "cell_type": "code",
      "execution_count": null,
      "metadata": {
        "colab": {
          "background_save": true,
          "base_uri": "https://localhost:8080/"
        },
        "id": "BxMsBCRjTNWr",
        "outputId": "1e055a1c-501a-468c-93a7-30a6c0dc04e6"
      },
      "outputs": [
        {
          "name": "stdout",
          "output_type": "stream",
          "text": [
            "Fitting 5 folds for each of 16 candidates, totalling 80 fits\n",
            "Best parameters found:  {'activation': 'relu', 'alpha': 0.05, 'hidden_layer_sizes': (50,), 'learning_rate': 'constant', 'solver': 'adam'}\n"
          ]
        }
      ],
      "source": [
        "# Parameters to be tuned\n",
        "param_grid = {\n",
        "    'hidden_layer_sizes': [(50,)],\n",
        "    'activation': ['tanh', 'relu'],\n",
        "    'solver': ['sgd', 'adam'],\n",
        "    'alpha': [0.0001, 0.05],\n",
        "    'learning_rate': ['constant','adaptive'],\n",
        "}\n",
        "\n",
        "mlp2 = MLPClassifier(max_iter=1000)\n",
        "\n",
        "# Create Grid Search\n",
        "grid_search = GridSearchCV(mlp, param_grid, n_jobs=-1, cv=5, verbose=2)\n",
        "grid_search.fit(X_train_resampled, y_train_resampled)\n",
        "print(\"Best parameters found: \", grid_search.best_params_)"
      ]
    },
    {
      "cell_type": "code",
      "execution_count": null,
      "metadata": {
        "colab": {
          "background_save": true
        },
        "id": "n_RjjIIvZEKd",
        "outputId": "d270200a-5cf4-4d3a-87ea-5af9679518b7"
      },
      "outputs": [
        {
          "name": "stderr",
          "output_type": "stream",
          "text": [
            "<ipython-input-98-9d5fb3dfbec2>:24: FutureWarning: The frame.append method is deprecated and will be removed from pandas in a future version. Use pandas.concat instead.\n",
            "  results_mlp = model_results.append(model_results, ignore_index=True)\n"
          ]
        },
        {
          "data": {
            "text/html": [
              "\n",
              "  <div id=\"df-cc491c43-4c46-4814-a263-1de263eaae14\" class=\"colab-df-container\">\n",
              "    <div>\n",
              "<style scoped>\n",
              "    .dataframe tbody tr th:only-of-type {\n",
              "        vertical-align: middle;\n",
              "    }\n",
              "\n",
              "    .dataframe tbody tr th {\n",
              "        vertical-align: top;\n",
              "    }\n",
              "\n",
              "    .dataframe thead th {\n",
              "        text-align: right;\n",
              "    }\n",
              "</style>\n",
              "<table border=\"1\" class=\"dataframe\">\n",
              "  <thead>\n",
              "    <tr style=\"text-align: right;\">\n",
              "      <th></th>\n",
              "      <th>Model</th>\n",
              "      <th>Accuracy</th>\n",
              "      <th>Precision</th>\n",
              "      <th>Recall</th>\n",
              "      <th>F1 Score</th>\n",
              "    </tr>\n",
              "  </thead>\n",
              "  <tbody>\n",
              "    <tr>\n",
              "      <th>0</th>\n",
              "      <td>MLP</td>\n",
              "      <td>0.612805</td>\n",
              "      <td>0.503788</td>\n",
              "      <td>0.519531</td>\n",
              "      <td>0.511538</td>\n",
              "    </tr>\n",
              "  </tbody>\n",
              "</table>\n",
              "</div>\n",
              "    <div class=\"colab-df-buttons\">\n",
              "\n",
              "  <div class=\"colab-df-container\">\n",
              "    <button class=\"colab-df-convert\" onclick=\"convertToInteractive('df-cc491c43-4c46-4814-a263-1de263eaae14')\"\n",
              "            title=\"Convert this dataframe to an interactive table.\"\n",
              "            style=\"display:none;\">\n",
              "\n",
              "  <svg xmlns=\"http://www.w3.org/2000/svg\" height=\"24px\" viewBox=\"0 -960 960 960\">\n",
              "    <path d=\"M120-120v-720h720v720H120Zm60-500h600v-160H180v160Zm220 220h160v-160H400v160Zm0 220h160v-160H400v160ZM180-400h160v-160H180v160Zm440 0h160v-160H620v160ZM180-180h160v-160H180v160Zm440 0h160v-160H620v160Z\"/>\n",
              "  </svg>\n",
              "    </button>\n",
              "\n",
              "  <style>\n",
              "    .colab-df-container {\n",
              "      display:flex;\n",
              "      gap: 12px;\n",
              "    }\n",
              "\n",
              "    .colab-df-convert {\n",
              "      background-color: #E8F0FE;\n",
              "      border: none;\n",
              "      border-radius: 50%;\n",
              "      cursor: pointer;\n",
              "      display: none;\n",
              "      fill: #1967D2;\n",
              "      height: 32px;\n",
              "      padding: 0 0 0 0;\n",
              "      width: 32px;\n",
              "    }\n",
              "\n",
              "    .colab-df-convert:hover {\n",
              "      background-color: #E2EBFA;\n",
              "      box-shadow: 0px 1px 2px rgba(60, 64, 67, 0.3), 0px 1px 3px 1px rgba(60, 64, 67, 0.15);\n",
              "      fill: #174EA6;\n",
              "    }\n",
              "\n",
              "    .colab-df-buttons div {\n",
              "      margin-bottom: 4px;\n",
              "    }\n",
              "\n",
              "    [theme=dark] .colab-df-convert {\n",
              "      background-color: #3B4455;\n",
              "      fill: #D2E3FC;\n",
              "    }\n",
              "\n",
              "    [theme=dark] .colab-df-convert:hover {\n",
              "      background-color: #434B5C;\n",
              "      box-shadow: 0px 1px 3px 1px rgba(0, 0, 0, 0.15);\n",
              "      filter: drop-shadow(0px 1px 2px rgba(0, 0, 0, 0.3));\n",
              "      fill: #FFFFFF;\n",
              "    }\n",
              "  </style>\n",
              "\n",
              "    <script>\n",
              "      const buttonEl =\n",
              "        document.querySelector('#df-cc491c43-4c46-4814-a263-1de263eaae14 button.colab-df-convert');\n",
              "      buttonEl.style.display =\n",
              "        google.colab.kernel.accessAllowed ? 'block' : 'none';\n",
              "\n",
              "      async function convertToInteractive(key) {\n",
              "        const element = document.querySelector('#df-cc491c43-4c46-4814-a263-1de263eaae14');\n",
              "        const dataTable =\n",
              "          await google.colab.kernel.invokeFunction('convertToInteractive',\n",
              "                                                    [key], {});\n",
              "        if (!dataTable) return;\n",
              "\n",
              "        const docLinkHtml = 'Like what you see? Visit the ' +\n",
              "          '<a target=\"_blank\" href=https://colab.research.google.com/notebooks/data_table.ipynb>data table notebook</a>'\n",
              "          + ' to learn more about interactive tables.';\n",
              "        element.innerHTML = '';\n",
              "        dataTable['output_type'] = 'display_data';\n",
              "        await google.colab.output.renderOutput(dataTable, element);\n",
              "        const docLink = document.createElement('div');\n",
              "        docLink.innerHTML = docLinkHtml;\n",
              "        element.appendChild(docLink);\n",
              "      }\n",
              "    </script>\n",
              "  </div>\n",
              "\n",
              "    </div>\n",
              "  </div>\n"
            ],
            "text/plain": [
              "  Model  Accuracy  Precision    Recall  F1 Score\n",
              "0   MLP  0.612805   0.503788  0.519531  0.511538"
            ]
          },
          "execution_count": 98,
          "metadata": {},
          "output_type": "execute_result"
        }
      ],
      "source": [
        "#save best parameter as best_mlp\n",
        "best_mlp = grid_search.best_estimator_\n",
        "\n",
        "# Predicting the test set results using best parameter\n",
        "y_pred = best_mlp.predict(X_test)\n",
        "\n",
        "#Evaluate results\n",
        "acc = accuracy_score(y_test, y_pred )\n",
        "prec = precision_score(y_test, y_pred )\n",
        "rec = recall_score(y_test, y_pred )\n",
        "f1 = f1_score(y_test, y_pred )\n",
        "\n",
        "#Save model performance to model_list\n",
        "model_list.append(best_mlp.__class__.__name__)\n",
        "accuracy_list.append(acc)\n",
        "precision_list.append(prec)\n",
        "recall_list.append(rec)\n",
        "f1_Score_list.append(f1)\n",
        "\n",
        "model_results = []\n",
        "model_results = pd.DataFrame([['MLP', acc, prec, rec, f1]],\n",
        "               columns = ['Model', 'Accuracy', 'Precision', 'Recall', 'F1 Score'])\n",
        "\n",
        "results_mlp = model_results.append(model_results, ignore_index=True)\n",
        "model_results"
      ]
    },
    {
      "cell_type": "markdown",
      "metadata": {
        "id": "UjIdD_XvXEkp"
      },
      "source": [
        "there is an increase in accuracy from 60.6% to **61.28%**"
      ]
    },
    {
      "cell_type": "markdown",
      "metadata": {
        "id": "Z30XqZoiFxYQ"
      },
      "source": [
        "###Support Vector Classifiers"
      ]
    },
    {
      "cell_type": "code",
      "execution_count": null,
      "metadata": {
        "colab": {
          "background_save": true
        },
        "id": "L4UqVm7DF0PF",
        "outputId": "6704012f-7803-4510-b9c4-7fea3ac6dd90"
      },
      "outputs": [
        {
          "name": "stdout",
          "output_type": "stream",
          "text": [
            "  Model  Accuracy  Precision   Recall  F1 Score\n",
            "0   MLP   0.61128   0.501845  0.53125  0.516129\n"
          ]
        }
      ],
      "source": [
        "# Inisialization MLP\n",
        "clf_svc = SVC(probability=True, random_state=0)\n",
        "\n",
        "# Model training\n",
        "clf_svc.fit(X_train_resampled, y_train_resampled)\n",
        "\n",
        "# Predicting the Test set results\n",
        "y_pred = clf_svc.predict(X_test)\n",
        "\n",
        "#Evaluate results\n",
        "acc = accuracy_score(y_test, y_pred )\n",
        "prec = precision_score(y_test, y_pred )\n",
        "rec = recall_score(y_test, y_pred )\n",
        "f1 = f1_score(y_test, y_pred )\n",
        "\n",
        "model_results = pd.DataFrame([['MLP', acc, prec, rec, f1]],\n",
        "               columns = ['Model', 'Accuracy', 'Precision', 'Recall', 'F1 Score'])\n",
        "\n",
        "results = model_results.sort_values([\"Precision\", \"Recall\"], ascending = False)\n",
        "print (results)"
      ]
    },
    {
      "cell_type": "code",
      "execution_count": null,
      "metadata": {
        "colab": {
          "background_save": true
        },
        "id": "LIaLQBsqYBdF",
        "outputId": "209722a4-bc47-4b62-a091-9ca76905506c"
      },
      "outputs": [
        {
          "name": "stdout",
          "output_type": "stream",
          "text": [
            "Fitting 5 folds for each of 240 candidates, totalling 1200 fits\n",
            "Best parameters found:  {'C': 10, 'degree': 2, 'gamma': 'auto', 'kernel': 'rbf'}\n"
          ]
        }
      ],
      "source": [
        "# Parameters to be tuned\n",
        "param_grid = {\n",
        "    'C': [0.1, 1, 10, 100],\n",
        "    'gamma': ['scale', 'auto', 0.001, 0.01, 0.1],\n",
        "    'kernel': ['linear', 'rbf', 'poly', 'sigmoid'],\n",
        "    'degree': [2, 3, 4],  # Relevant only for 'poly' kernel\n",
        "}\n",
        "\n",
        "svc1 = SVC()\n",
        "\n",
        "# Create Grid Search\n",
        "grid_search1 = GridSearchCV(svc1, param_grid, n_jobs=-1, cv=5, verbose=2)\n",
        "grid_search1.fit(X_train_resampled, y_train_resampled)\n",
        "print(\"Best parameters found: \", grid_search1.best_params_)"
      ]
    },
    {
      "cell_type": "code",
      "execution_count": null,
      "metadata": {
        "colab": {
          "background_save": true
        },
        "id": "koCOBtQlZ2L1",
        "outputId": "60e1348e-a00e-4848-dcc6-1439ae8b7e8e"
      },
      "outputs": [
        {
          "name": "stderr",
          "output_type": "stream",
          "text": [
            "<ipython-input-101-0eb084510dc4>:23: FutureWarning: The frame.append method is deprecated and will be removed from pandas in a future version. Use pandas.concat instead.\n",
            "  results_svc = model_results.append(model_results, ignore_index=True)\n"
          ]
        },
        {
          "data": {
            "text/html": [
              "\n",
              "  <div id=\"df-39e93abf-eb7e-4076-a9b3-bba8fa25e8b2\" class=\"colab-df-container\">\n",
              "    <div>\n",
              "<style scoped>\n",
              "    .dataframe tbody tr th:only-of-type {\n",
              "        vertical-align: middle;\n",
              "    }\n",
              "\n",
              "    .dataframe tbody tr th {\n",
              "        vertical-align: top;\n",
              "    }\n",
              "\n",
              "    .dataframe thead th {\n",
              "        text-align: right;\n",
              "    }\n",
              "</style>\n",
              "<table border=\"1\" class=\"dataframe\">\n",
              "  <thead>\n",
              "    <tr style=\"text-align: right;\">\n",
              "      <th></th>\n",
              "      <th>Model</th>\n",
              "      <th>Accuracy</th>\n",
              "      <th>Precision</th>\n",
              "      <th>Recall</th>\n",
              "      <th>F1 Score</th>\n",
              "    </tr>\n",
              "  </thead>\n",
              "  <tbody>\n",
              "    <tr>\n",
              "      <th>0</th>\n",
              "      <td>SVC</td>\n",
              "      <td>0.625</td>\n",
              "      <td>0.517606</td>\n",
              "      <td>0.574219</td>\n",
              "      <td>0.544444</td>\n",
              "    </tr>\n",
              "  </tbody>\n",
              "</table>\n",
              "</div>\n",
              "    <div class=\"colab-df-buttons\">\n",
              "\n",
              "  <div class=\"colab-df-container\">\n",
              "    <button class=\"colab-df-convert\" onclick=\"convertToInteractive('df-39e93abf-eb7e-4076-a9b3-bba8fa25e8b2')\"\n",
              "            title=\"Convert this dataframe to an interactive table.\"\n",
              "            style=\"display:none;\">\n",
              "\n",
              "  <svg xmlns=\"http://www.w3.org/2000/svg\" height=\"24px\" viewBox=\"0 -960 960 960\">\n",
              "    <path d=\"M120-120v-720h720v720H120Zm60-500h600v-160H180v160Zm220 220h160v-160H400v160Zm0 220h160v-160H400v160ZM180-400h160v-160H180v160Zm440 0h160v-160H620v160ZM180-180h160v-160H180v160Zm440 0h160v-160H620v160Z\"/>\n",
              "  </svg>\n",
              "    </button>\n",
              "\n",
              "  <style>\n",
              "    .colab-df-container {\n",
              "      display:flex;\n",
              "      gap: 12px;\n",
              "    }\n",
              "\n",
              "    .colab-df-convert {\n",
              "      background-color: #E8F0FE;\n",
              "      border: none;\n",
              "      border-radius: 50%;\n",
              "      cursor: pointer;\n",
              "      display: none;\n",
              "      fill: #1967D2;\n",
              "      height: 32px;\n",
              "      padding: 0 0 0 0;\n",
              "      width: 32px;\n",
              "    }\n",
              "\n",
              "    .colab-df-convert:hover {\n",
              "      background-color: #E2EBFA;\n",
              "      box-shadow: 0px 1px 2px rgba(60, 64, 67, 0.3), 0px 1px 3px 1px rgba(60, 64, 67, 0.15);\n",
              "      fill: #174EA6;\n",
              "    }\n",
              "\n",
              "    .colab-df-buttons div {\n",
              "      margin-bottom: 4px;\n",
              "    }\n",
              "\n",
              "    [theme=dark] .colab-df-convert {\n",
              "      background-color: #3B4455;\n",
              "      fill: #D2E3FC;\n",
              "    }\n",
              "\n",
              "    [theme=dark] .colab-df-convert:hover {\n",
              "      background-color: #434B5C;\n",
              "      box-shadow: 0px 1px 3px 1px rgba(0, 0, 0, 0.15);\n",
              "      filter: drop-shadow(0px 1px 2px rgba(0, 0, 0, 0.3));\n",
              "      fill: #FFFFFF;\n",
              "    }\n",
              "  </style>\n",
              "\n",
              "    <script>\n",
              "      const buttonEl =\n",
              "        document.querySelector('#df-39e93abf-eb7e-4076-a9b3-bba8fa25e8b2 button.colab-df-convert');\n",
              "      buttonEl.style.display =\n",
              "        google.colab.kernel.accessAllowed ? 'block' : 'none';\n",
              "\n",
              "      async function convertToInteractive(key) {\n",
              "        const element = document.querySelector('#df-39e93abf-eb7e-4076-a9b3-bba8fa25e8b2');\n",
              "        const dataTable =\n",
              "          await google.colab.kernel.invokeFunction('convertToInteractive',\n",
              "                                                    [key], {});\n",
              "        if (!dataTable) return;\n",
              "\n",
              "        const docLinkHtml = 'Like what you see? Visit the ' +\n",
              "          '<a target=\"_blank\" href=https://colab.research.google.com/notebooks/data_table.ipynb>data table notebook</a>'\n",
              "          + ' to learn more about interactive tables.';\n",
              "        element.innerHTML = '';\n",
              "        dataTable['output_type'] = 'display_data';\n",
              "        await google.colab.output.renderOutput(dataTable, element);\n",
              "        const docLink = document.createElement('div');\n",
              "        docLink.innerHTML = docLinkHtml;\n",
              "        element.appendChild(docLink);\n",
              "      }\n",
              "    </script>\n",
              "  </div>\n",
              "\n",
              "    </div>\n",
              "  </div>\n"
            ],
            "text/plain": [
              "  Model  Accuracy  Precision    Recall  F1 Score\n",
              "0   SVC     0.625   0.517606  0.574219  0.544444"
            ]
          },
          "execution_count": 101,
          "metadata": {},
          "output_type": "execute_result"
        }
      ],
      "source": [
        "#save best parameter as best_mlp\n",
        "best_svc = grid_search1.best_estimator_\n",
        "\n",
        "# Predicting the test set results using best parameter\n",
        "y_pred = best_svc.predict(X_test)\n",
        "\n",
        "#Evaluate results\n",
        "acc = accuracy_score(y_test, y_pred )\n",
        "prec = precision_score(y_test, y_pred )\n",
        "rec = recall_score(y_test, y_pred )\n",
        "f1 = f1_score(y_test, y_pred )\n",
        "\n",
        "#Save model performance to model_list\n",
        "model_list.append(best_svc.__class__.__name__)\n",
        "accuracy_list.append(acc)\n",
        "precision_list.append(prec)\n",
        "recall_list.append(rec)\n",
        "f1_Score_list.append(f1)\n",
        "\n",
        "model_results = pd.DataFrame([['SVC', acc, prec, rec, f1]],\n",
        "               columns = ['Model', 'Accuracy', 'Precision', 'Recall', 'F1 Score'])\n",
        "\n",
        "results_svc = model_results.append(model_results, ignore_index=True)\n",
        "model_results"
      ]
    },
    {
      "cell_type": "markdown",
      "metadata": {
        "id": "rJWkVxG6x7GK"
      },
      "source": [
        "###Random Forest Classifier"
      ]
    },
    {
      "cell_type": "code",
      "execution_count": null,
      "metadata": {
        "colab": {
          "background_save": true
        },
        "id": "Py4S_RWO0zV7",
        "outputId": "d6167d0e-23da-46bf-e43f-4ec089921c18"
      },
      "outputs": [
        {
          "name": "stdout",
          "output_type": "stream",
          "text": [
            "              precision    recall  f1-score   support\n",
            "\n",
            "         0.0       0.67      0.70      0.69       400\n",
            "         1.0       0.50      0.47      0.49       256\n",
            "\n",
            "    accuracy                           0.61       656\n",
            "   macro avg       0.59      0.59      0.59       656\n",
            "weighted avg       0.61      0.61      0.61       656\n",
            "\n"
          ]
        },
        {
          "name": "stderr",
          "output_type": "stream",
          "text": [
            "<ipython-input-102-96166ecf729a>:19: FutureWarning: The frame.append method is deprecated and will be removed from pandas in a future version. Use pandas.concat instead.\n",
            "  results_RF = model_results.append(model_results, ignore_index=True)\n"
          ]
        }
      ],
      "source": [
        "#Random Forest\n",
        "# Fitting Random Forest to the Training set:\n",
        "\n",
        "classifier = RandomForestClassifier(n_estimators=22, criterion='entropy', random_state=0)\n",
        "classifier.fit(X_train_resampled, y_train_resampled)\n",
        "\n",
        "# Predicting the Test set results\n",
        "y_pred = classifier.predict(X_test)\n",
        "\n",
        "# Evaluate results\n",
        "#acc = accuracy_score(y_test, y_pred)\n",
        "#prec = precision_score(y_test, y_pred)\n",
        "#rec = recall_score(y_test, y_pred)\n",
        "#f1 = f1_score(y_test, y_pred)\n",
        "\n",
        "model_results = pd.DataFrame([['Random Forest', acc, prec, rec, f1]],\n",
        "               columns=['Model', 'Accuracy', 'Precision', 'Recall', 'F1 Score'])\n",
        "\n",
        "results_RF = model_results.append(model_results, ignore_index=True)\n",
        "\n",
        "print(classification_report(y_test, y_pred))"
      ]
    },
    {
      "cell_type": "code",
      "execution_count": null,
      "metadata": {
        "colab": {
          "background_save": true
        },
        "id": "j6LjBX0aGPLo"
      },
      "outputs": [],
      "source": [
        "# Tunning\n",
        "from sklearn.ensemble import RandomForestClassifier\n",
        "from sklearn.model_selection import RandomizedSearchCV, RepeatedStratifiedKFold\n",
        "from scipy.stats import randint\n",
        "from sklearn.metrics import classification_report\n",
        "\n",
        "# Create a Random Forest model\n",
        "RF_model = RandomForestClassifier()\n",
        "\n",
        "# Define hyperparameter search space for Random Forest\n",
        "RF_param_dist = {\n",
        "    \"n_estimators\": [100, 200, 300],\n",
        "    \"max_depth\": [None, 10, 20, 30],\n",
        "    \"min_samples_split\": [2, 5, 10],\n",
        "    \"min_samples_leaf\": [1, 2, 4],\n",
        "    \"criterion\": [\"gini\", \"entropy\"]\n",
        "}\n",
        "\n",
        "# Create cross-validation strategy\n",
        "cv = RepeatedStratifiedKFold(n_splits=10, n_repeats=3, random_state=1)\n",
        "\n",
        "# Perform hyperparameter tuning with RandomizedSearchCV for Random Forest\n",
        "RF = RandomizedSearchCV(RF_model, RF_param_dist, n_iter=50, scoring='roc_auc', n_jobs=-1, cv=cv, random_state=1)\n",
        "RF.fit(X_train_resampled, y_train_resampled)\n",
        "\n",
        "# Get the best estimator from RandomizedSearchCV for Random Forest\n",
        "best_RF = RF.best_estimator_\n"
      ]
    },
    {
      "cell_type": "code",
      "execution_count": null,
      "metadata": {
        "colab": {
          "background_save": true
        },
        "id": "rv6ZSZickdue",
        "outputId": "6f944e72-3983-42c1-9003-9c9f0a9ee529"
      },
      "outputs": [
        {
          "name": "stdout",
          "output_type": "stream",
          "text": [
            "Classification Report for Random Forest:\n",
            "              precision    recall  f1-score   support\n",
            "\n",
            "         0.0       0.70      0.71      0.70       400\n",
            "         1.0       0.53      0.52      0.52       256\n",
            "\n",
            "    accuracy                           0.63       656\n",
            "   macro avg       0.61      0.61      0.61       656\n",
            "weighted avg       0.63      0.63      0.63       656\n",
            "\n"
          ]
        }
      ],
      "source": [
        "# Train the best Random Forest model on the training data\n",
        "best_RF.fit(X_train_resampled, y_train_resampled)\n",
        "\n",
        "# Predict on the test data for Random Forest\n",
        "pred_RF = best_RF.predict(X_test)\n",
        "pred_prob_RF = best_RF.predict_proba(X_test)\n",
        "\n",
        "# Evaluate results\n",
        "acc = accuracy_score(y_test, pred_RF)\n",
        "prec = precision_score(y_test, pred_RF)\n",
        "rec = recall_score(y_test, pred_RF)\n",
        "f1 = f1_score(y_test, pred_RF)\n",
        "\n",
        "#Save model performance to model_list\n",
        "model_list.append(best_RF.__class__.__name__)\n",
        "accuracy_list.append(acc)\n",
        "precision_list.append(prec)\n",
        "recall_list.append(rec)\n",
        "f1_Score_list.append(f1)\n",
        "\n",
        "# Display classification report for Random Forest\n",
        "print(\"Classification Report for Random Forest:\")\n",
        "print(classification_report(y_test, pred_RF))"
      ]
    },
    {
      "cell_type": "markdown",
      "metadata": {
        "id": "wlUXNIH1zr6G"
      },
      "source": [
        "### K-Nearest Neighbours Classfier"
      ]
    },
    {
      "cell_type": "code",
      "execution_count": null,
      "metadata": {
        "colab": {
          "background_save": true
        },
        "id": "U0qkH2QAz3GF",
        "outputId": "a2acd7a5-2651-4c98-c331-e3a3bfef100c"
      },
      "outputs": [
        {
          "name": "stderr",
          "output_type": "stream",
          "text": [
            "<ipython-input-105-d2937462e637>:18: FutureWarning: The frame.append method is deprecated and will be removed from pandas in a future version. Use pandas.concat instead.\n",
            "  results_KNN = model_results.append(model_results, ignore_index=True)\n"
          ]
        }
      ],
      "source": [
        "# K-Nearest Neighbour to the Training set:\n",
        "\n",
        "classifier = KNeighborsClassifier(n_neighbors=5)\n",
        "classifier.fit(X_train_resampled, y_train_resampled)\n",
        "\n",
        "# Predicting the Test set results\n",
        "y_pred = classifier.predict(X_test)\n",
        "\n",
        "# Evaluate results\n",
        "#acc = accuracy_score(y_test, y_pred)\n",
        "#prec = precision_score(y_test, y_pred)\n",
        "#rec = recall_score(y_test, y_pred)\n",
        "#f1 = f1_score(y_test, y_pred)\n",
        "\n",
        "model_results = pd.DataFrame([['Random Forest', acc, prec, rec, f1]],\n",
        "               columns=['Model', 'Accuracy', 'Precision', 'Recall', 'F1 Score'])\n",
        "\n",
        "results_KNN = model_results.append(model_results, ignore_index=True)\n"
      ]
    },
    {
      "cell_type": "code",
      "execution_count": null,
      "metadata": {
        "colab": {
          "background_save": true
        },
        "id": "tIFqeZyP0YaV",
        "outputId": "0e6e8bfd-e6a1-4398-f3ce-a0d16d01d218"
      },
      "outputs": [
        {
          "name": "stdout",
          "output_type": "stream",
          "text": [
            "              precision    recall  f1-score   support\n",
            "\n",
            "         0.0       0.70      0.60      0.65       400\n",
            "         1.0       0.49      0.59      0.54       256\n",
            "\n",
            "    accuracy                           0.60       656\n",
            "   macro avg       0.59      0.60      0.59       656\n",
            "weighted avg       0.62      0.60      0.60       656\n",
            "\n"
          ]
        }
      ],
      "source": [
        "print(classification_report(y_test, y_pred))"
      ]
    },
    {
      "cell_type": "code",
      "execution_count": null,
      "metadata": {
        "colab": {
          "background_save": true
        },
        "id": "EOz0apokGuFA"
      },
      "outputs": [],
      "source": [
        "# K-Nearest Neighbors (KNN) model\n",
        "from sklearn.neighbors import KNeighborsClassifier\n",
        "from sklearn.model_selection import RandomizedSearchCV, RepeatedStratifiedKFold\n",
        "from scipy.stats import randint\n",
        "from sklearn.metrics import classification_report\n",
        "\n",
        "# Create a K-Nearest Neighbors (KNN) model\n",
        "KNN_model = KNeighborsClassifier()\n",
        "\n",
        "# Define hyperparameter search space for KNN\n",
        "KNN_param_dist = {\n",
        "    \"n_neighbors\": randint(1, 10),\n",
        "    \"weights\": ['uniform', 'distance'],\n",
        "    \"algorithm\": ['auto', 'ball_tree', 'kd_tree', 'brute']\n",
        "}\n",
        "\n",
        "# Create cross-validation strategy\n",
        "cv = RepeatedStratifiedKFold(n_splits=10, n_repeats=3, random_state=1)\n",
        "\n",
        "# Perform hyperparameter tuning with RandomizedSearchCV for KNN\n",
        "KNN = RandomizedSearchCV(KNN_model, KNN_param_dist, n_iter=50, scoring='roc_auc', n_jobs=-1, cv=cv, random_state=1)\n",
        "KNN.fit(X_train_resampled, y_train_resampled)\n",
        "\n",
        "# Get the best estimator from RandomizedSearchCV for KNN\n",
        "best_KNN = KNN.best_estimator_\n"
      ]
    },
    {
      "cell_type": "code",
      "execution_count": null,
      "metadata": {
        "colab": {
          "background_save": true
        },
        "id": "r_wJQLuRvSDA",
        "outputId": "6c1c08fe-d472-40c9-ca18-39e2ac6bfa77"
      },
      "outputs": [
        {
          "name": "stdout",
          "output_type": "stream",
          "text": [
            "Classification Report for K-Nearest Neighbors:\n",
            "              precision    recall  f1-score   support\n",
            "\n",
            "         0.0       0.69      0.59      0.63       400\n",
            "         1.0       0.47      0.58      0.52       256\n",
            "\n",
            "    accuracy                           0.59       656\n",
            "   macro avg       0.58      0.58      0.58       656\n",
            "weighted avg       0.60      0.59      0.59       656\n",
            "\n"
          ]
        }
      ],
      "source": [
        "# Train the best KNN model on the training data\n",
        "best_KNN.fit(X_train_resampled, y_train_resampled)\n",
        "\n",
        "# Predict on the test data for KNN\n",
        "pred_KNN = best_KNN.predict(X_test)\n",
        "pred_prob_KNN = best_KNN.predict_proba(X_test)\n",
        "\n",
        "# Evaluate results\n",
        "acc = accuracy_score(y_test, pred_KNN)\n",
        "prec = precision_score(y_test, pred_KNN)\n",
        "rec = recall_score(y_test, pred_KNN)\n",
        "f1 = f1_score(y_test, pred_KNN)\n",
        "\n",
        "#Save model performance to model_list\n",
        "model_list.append(best_KNN.__class__.__name__)\n",
        "accuracy_list.append(acc)\n",
        "precision_list.append(prec)\n",
        "recall_list.append(rec)\n",
        "f1_Score_list.append(f1)\n",
        "\n",
        "# Display classification report for KNN\n",
        "print(\"Classification Report for K-Nearest Neighbors:\")\n",
        "print(classification_report(y_test, pred_KNN))"
      ]
    },
    {
      "cell_type": "markdown",
      "metadata": {
        "id": "qJmD7FvunEp0"
      },
      "source": [
        "### Decission Tree\n",
        "\n"
      ]
    },
    {
      "cell_type": "code",
      "execution_count": null,
      "metadata": {
        "colab": {
          "background_save": true
        },
        "id": "3dIKt95rnOg1",
        "outputId": "c799783d-e790-450f-9933-d69aece0b4af"
      },
      "outputs": [
        {
          "name": "stdout",
          "output_type": "stream",
          "text": [
            "              precision    recall  f1-score   support\n",
            "\n",
            "         0.0       0.65      0.62      0.63       400\n",
            "         1.0       0.45      0.48      0.46       256\n",
            "\n",
            "    accuracy                           0.56       656\n",
            "   macro avg       0.55      0.55      0.55       656\n",
            "weighted avg       0.57      0.56      0.57       656\n",
            "\n"
          ]
        }
      ],
      "source": [
        "#from sklearn.tree import DecisionTreeClassifier\n",
        "from sklearn.model_selection import RandomizedSearchCV\n",
        "from scipy.stats import randint\n",
        "from sklearn.metrics import classification_report\n",
        "from sklearn.model_selection import RepeatedStratifiedKFold\n",
        "\n",
        "# Kemudian, Anda dapat membuat objek RepeatedStratifiedKFold seperti ini:\n",
        "cv = RepeatedStratifiedKFold(n_splits=10, n_repeats=3, random_state=1)\n",
        "\n",
        "\n",
        "\n",
        "# Create a Decision Tree model\n",
        "DT_model = DecisionTreeClassifier()\n",
        "\n",
        "# Define hyperparameter search space\n",
        "param_dist = {\n",
        "    \"max_depth\": [3, None],\n",
        "    \"max_features\": randint(1, X_train_resampled.shape[1]),\n",
        "    \"min_samples_leaf\": randint(1, X_train_resampled.shape[0]),\n",
        "    \"criterion\": [\"gini\", \"entropy\"]\n",
        "}\n",
        "\n",
        "# Create cross-validation strategy\n",
        "cv = RepeatedStratifiedKFold(n_splits=10, n_repeats=3, random_state=1)\n",
        "\n",
        "# Perform hyperparameter tuning with RandomizedSearchCV\n",
        "DT = RandomizedSearchCV(DT_model, param_dist, n_iter=50, scoring='roc_auc', n_jobs=-1, cv=cv, random_state=1)\n",
        "DT.fit(X_train_resampled, y_train_resampled)\n",
        "\n",
        "# Get the best estimator from RandomizedSearchCV\n",
        "best_DT = DT.best_estimator_\n",
        "\n",
        "# Train the best Decision Tree model on the training data\n",
        "best_DT.fit(X_train_resampled, y_train_resampled)\n",
        "\n",
        "# Predict on the test data\n",
        "pred = best_DT.predict(X_test)\n",
        "pred_prob = best_DT.predict_proba(X_test)\n",
        "\n",
        "#Evaluate results\n",
        "acc = accuracy_score(y_test, pred )\n",
        "prec = precision_score(y_test, pred )\n",
        "rec = recall_score(y_test, pred )\n",
        "f1 = f1_score(y_test, pred )\n",
        "\n",
        "#Save model performance to model_list\n",
        "model_list.append(best_DT.__class__.__name__)\n",
        "accuracy_list.append(acc)\n",
        "precision_list.append(prec)\n",
        "recall_list.append(rec)\n",
        "f1_Score_list.append(f1)\n",
        "\n",
        "# Display classification report\n",
        "print(classification_report(y_test, pred))\n"
      ]
    },
    {
      "cell_type": "code",
      "execution_count": null,
      "metadata": {
        "colab": {
          "background_save": true
        },
        "id": "-6jezcQQnTRn",
        "outputId": "541cad47-098c-471b-b165-cabc3aa06d66"
      },
      "outputs": [
        {
          "data": {
            "image/png": "[encoded data removed]",
            "text/plain": [
              "<Figure size 1500x1000 with 1 Axes>"
            ]
          },
          "metadata": {},
          "output_type": "display_data"
        }
      ],
      "source": [
        "from sklearn.tree import plot_tree\n",
        "import matplotlib.pyplot as plt\n",
        "\n",
        "# Replace 'best_DT' with your trained Decision Tree model\n",
        "trained_DT = best_DT\n",
        "\n",
        "plt.figure(figsize=(15, 10))\n",
        "plot_tree(trained_DT, filled=True, feature_names=X_train_resampled.columns, class_names=['Class 0', 'Class 1'])\n",
        "\n",
        "plt.show()\n"
      ]
    },
    {
      "cell_type": "markdown",
      "metadata": {
        "id": "4hTRHJMLtDBt"
      },
      "source": [
        "### XG Boost Classifier"
      ]
    },
    {
      "cell_type": "code",
      "execution_count": null,
      "metadata": {
        "id": "Hnpoj3irtHDS"
      },
      "outputs": [],
      "source": [
        "from xgboost import XGBClassifier\n",
        "from sklearn.model_selection import RandomizedSearchCV\n",
        "from sklearn.metrics import classification_report, accuracy_score\n",
        "from sklearn.model_selection import RepeatedStratifiedKFold\n",
        "\n",
        "# Create an XGBoost model\n",
        "XGB_model = XGBClassifier()\n",
        "\n",
        "# Define hyperparameter search space\n",
        "param_dist = {\n",
        "    \"learning_rate\": [0.05, 0.10, 0.15, 0.20, 0.25, 0.30],\n",
        "    \"max_depth\": [3, 4, 5, 6, 8, 10, 12, 15],\n",
        "    \"min_child_weight\": [1, 3, 5, 7],\n",
        "    \"gamma\": [0.0, 0.1, 0.2, 0.3, 0.4],\n",
        "    \"colsample_bytree\": [0.3, 0.4, 0.5, 0.7]\n",
        "}\n",
        "\n",
        "# Create cross-validation strategy\n",
        "cv = RepeatedStratifiedKFold(n_splits=10, n_repeats=3, random_state=1)\n",
        "\n",
        "# Perform hyperparameter tuning with RandomizedSearchCV\n",
        "XGB = RandomizedSearchCV(XGB_model, param_dist, n_iter=50, scoring='roc_auc', n_jobs=-1, cv=cv, random_state=1)\n",
        "XGB.fit(X_train_resampled, y_train_resampled)\n",
        "\n",
        "# Predict on the test data\n",
        "y_pred = XGB.predict(X_test)\n",
        "\n",
        "#Evaluate results\n",
        "acc = accuracy_score(y_test, y_pred )\n",
        "prec = precision_score(y_test, y_pred )\n",
        "rec = recall_score(y_test, y_pred )\n",
        "f1 = f1_score(y_test, y_pred )\n",
        "\n",
        "# Display classification report and accuracy\n",
        "print(classification_report(y_test, y_pred))\n",
        "accuracy = accuracy_score(y_test, y_pred)\n",
        "print(f'Accuracy: {accuracy}')\n",
        "\n",
        "# Get the best estimator from RandomizedSearchCV\n",
        "best_XGB = XGB.best_estimator_\n",
        "\n",
        "#Save model performance to model_list\n",
        "model_list.append(best_XGB.__class__.__name__)\n",
        "accuracy_list.append(acc)\n",
        "precision_list.append(prec)\n",
        "recall_list.append(rec)\n",
        "f1_Score_list.append(f1)"
      ]
    },
    {
      "cell_type": "code",
      "execution_count": null,
      "metadata": {
        "id": "oJLS_dqRtM1v"
      },
      "outputs": [],
      "source": [
        "# Access and plot feature importances\n",
        "xgbf = pd.DataFrame(best_XGB.feature_importances_, index=X_train_resampled.columns).sort_values(by=0)\n",
        "plt.figure(figsize=(8, 4))\n",
        "plt.barh(xgbf.index, xgbf.values[:, 0])\n",
        "plt.xlabel('Feature Importance')\n",
        "plt.ylabel('Features')\n",
        "plt.title('XGBoost Feature Importance')\n",
        "plt.show()\n",
        "\n"
      ]
    },
    {
      "cell_type": "markdown",
      "metadata": {
        "id": "mmDEI1qB4tXE"
      },
      "source": [
        "# Model Evaluation"
      ]
    },
    {
      "cell_type": "markdown",
      "metadata": {
        "id": "-6b1DF3SD8fm"
      },
      "source": [
        "## Accuracy VS Model"
      ]
    },
    {
      "cell_type": "code",
      "execution_count": null,
      "metadata": {
        "id": "6aeAsdWDVo85"
      },
      "outputs": [],
      "source": [
        "data_list = {'Model': model_list,\n",
        "             'Accuracy': accuracy_list,\n",
        "             'Precision': precision_list,\n",
        "             'Recall':recall_list,\n",
        "             'F1 Score': f1_Score_list}\n",
        "modeldf = pd.DataFrame(data_list)\n",
        "modeldf"
      ]
    },
    {
      "cell_type": "code",
      "execution_count": null,
      "metadata": {
        "id": "FL9j7tPRFB7x"
      },
      "outputs": [],
      "source": [
        "line = px.line(data_frame=modeldf, y = ['Accuracy'], markers = True)\n",
        "line.update_xaxes(title = \"Model\", rangeslider_visible = False)\n",
        "line.update_yaxes(title = \"Accuracy\")\n",
        "line.update_traces(line_color=\"skyblue\")\n",
        "line.update_layout(showlegend=True,\n",
        "                   title = {\n",
        "                       'text': 'Accuracy vs Model',\n",
        "                       'y': 0.94,\n",
        "                       'x': 0.5,\n",
        "                       'xanchor': 'center',\n",
        "                       'yanchor': 'top'\n",
        "                   })\n",
        "line.show()"
      ]
    },
    {
      "cell_type": "code",
      "execution_count": null,
      "metadata": {
        "id": "97YUzVEgZFUd"
      },
      "outputs": [],
      "source": [
        "#Let us define functions to summarise the Prediction's scores\n",
        "\n",
        "#Visualising Function\n",
        "def AUC_ROC_plot(Test_Y, pred):\n",
        "    ref = [0 for _ in range(len(Test_Y))]\n",
        "    ref_auc = roc_auc_score(Test_Y, ref)\n",
        "    lr_auc = roc_auc_score(Test_Y, pred)\n",
        "\n",
        "    ns_fpr, ns_tpr, _ = roc_curve(Test_Y, ref)\n",
        "    lr_fpr, lr_tpr, _ = roc_curve(Test_Y, pred)\n",
        "\n",
        "    plt.plot(ns_fpr, ns_tpr, linestyle='--')\n",
        "    plt.plot(lr_fpr, lr_tpr, marker='.', label='AUC = {}'.format(round(roc_auc_score(Test_Y, pred)*100,2)))\n",
        "    plt.xlabel('False Positive Rate')\n",
        "    plt.ylabel('True Positive Rate')\n",
        "    plt.legend()\n",
        "    plt.show()"
      ]
    },
    {
      "cell_type": "markdown",
      "metadata": {
        "id": "k8U44pyfH-dQ"
      },
      "source": [
        "## Confusion Analysis"
      ]
    },
    {
      "cell_type": "code",
      "execution_count": null,
      "metadata": {
        "id": "Ch8NR8Q8Ues9"
      },
      "outputs": [],
      "source": [
        "#Plotting Confusion-Matrix of all the predictive Models\n",
        "\n",
        "def plot_cm(y_true, y_pred):\n",
        "    cm = confusion_matrix(y_true, y_pred, labels=np.unique(y_true))\n",
        "    cm_sum = np.sum(cm, axis=1, keepdims=True)\n",
        "    cm_perc = cm / cm_sum.astype(float) * 100\n",
        "    annot = np.empty_like(cm).astype(str)\n",
        "    nrows, ncols = cm.shape\n",
        "    for i in range(nrows):\n",
        "        for j in range(ncols):\n",
        "            c = cm[i, j]\n",
        "            p = cm_perc[i, j]\n",
        "            if i == j:\n",
        "                s = cm_sum[i]\n",
        "                annot[i, j] = '%.1f%%\\n%d/%d' % (p, c, s)\n",
        "            elif c == 0:\n",
        "                annot[i, j] = ''\n",
        "            else:\n",
        "                annot[i, j] = '%.1f%%\\n%d' % (p, c)\n",
        "    cm = pd.DataFrame(cm, index=np.unique(y_true), columns=np.unique(y_true))\n",
        "    cm.columns=labels\n",
        "    cm.index=labels\n",
        "    cm.index.name = 'Actual'\n",
        "    cm.columns.name = 'Predicted'\n",
        "    #fig, ax = plt.subplots()\n",
        "    sns.heatmap(cm, annot=annot, fmt='')# cmap= \"GnBu\"\n",
        "\n",
        "def conf_mat_plot(modeldf):\n",
        "    plt.figure(figsize=[20,3.5*math.ceil(len(modeldf)*len(labels)/14)])\n",
        "\n",
        "    for i in range(len(modeldf)):\n",
        "        if len(labels)<=4:\n",
        "            plt.subplot(2,4,i+1)\n",
        "        else:\n",
        "            plt.subplot(math.ceil(len(modeldf)/3),3,i+1)\n",
        "        pred = modeldf[i].predict(Test_X_std)\n",
        "        #plot_cm(Test_Y, pred)\n",
        "        sns.heatmap(confusion_matrix(Test_Y, pred), annot=True, cmap='Blues', fmt='.0f') #vmin=0,vmax=5\n",
        "        plt.title(modeldf.index[i])\n",
        "    plt.tight_layout()\n",
        "    plt.show()\n"
      ]
    },
    {
      "cell_type": "code",
      "execution_count": null,
      "metadata": {
        "colab": {
          "base_uri": "https://localhost:8080/",
          "height": 253
        },
        "id": "sLhzeHEv4-d7",
        "outputId": "86b7a179-d0fe-4ebd-8744-9a5106f52990"
      },
      "outputs": [
        {
          "ename": "SyntaxError",
          "evalue": "ignored",
          "output_type": "error",
          "traceback": [
            "\u001b[0;31m---------------------------------------------------------------------------\u001b[0m",
            "\u001b[0;31mSyntaxError\u001b[0m                               Traceback (most recent call last)",
            "\u001b[0;32m/usr/local/lib/python3.10/dist-packages/IPython/core/compilerop.py\u001b[0m in \u001b[0;36mast_parse\u001b[0;34m(self, source, filename, symbol)\u001b[0m\n\u001b[1;32m     99\u001b[0m         \u001b[0mArguments\u001b[0m \u001b[0mare\u001b[0m \u001b[0mexactly\u001b[0m \u001b[0mthe\u001b[0m \u001b[0msame\u001b[0m \u001b[0;32mas\u001b[0m \u001b[0mast\u001b[0m\u001b[0;34m.\u001b[0m\u001b[0mparse\u001b[0m \u001b[0;34m(\u001b[0m\u001b[0;32min\u001b[0m \u001b[0mthe\u001b[0m \u001b[0mstandard\u001b[0m \u001b[0mlibrary\u001b[0m\u001b[0;34m)\u001b[0m\u001b[0;34m,\u001b[0m\u001b[0;34m\u001b[0m\u001b[0;34m\u001b[0m\u001b[0m\n\u001b[1;32m    100\u001b[0m         and are passed to the built-in compile function.\"\"\"\n\u001b[0;32m--> 101\u001b[0;31m         \u001b[0;32mreturn\u001b[0m \u001b[0mcompile\u001b[0m\u001b[0;34m(\u001b[0m\u001b[0msource\u001b[0m\u001b[0;34m,\u001b[0m \u001b[0mfilename\u001b[0m\u001b[0;34m,\u001b[0m \u001b[0msymbol\u001b[0m\u001b[0;34m,\u001b[0m \u001b[0mself\u001b[0m\u001b[0;34m.\u001b[0m\u001b[0mflags\u001b[0m \u001b[0;34m|\u001b[0m \u001b[0mPyCF_ONLY_AST\u001b[0m\u001b[0;34m,\u001b[0m \u001b[0;36m1\u001b[0m\u001b[0;34m)\u001b[0m\u001b[0;34m\u001b[0m\u001b[0;34m\u001b[0m\u001b[0m\n\u001b[0m\u001b[1;32m    102\u001b[0m \u001b[0;34m\u001b[0m\u001b[0m\n\u001b[1;32m    103\u001b[0m     \u001b[0;32mdef\u001b[0m \u001b[0mreset_compiler_flags\u001b[0m\u001b[0;34m(\u001b[0m\u001b[0mself\u001b[0m\u001b[0;34m)\u001b[0m\u001b[0;34m:\u001b[0m\u001b[0;34m\u001b[0m\u001b[0;34m\u001b[0m\u001b[0m\n",
            "\u001b[0;31mSyntaxError\u001b[0m: invalid syntax (<ipython-input-65-23598001e881>, line 5)"
          ]
        }
      ],
      "source": [
        "# Create a confusion matrix\n",
        "conf_matrix = confusion_matrix(y_test, y_pred)\n",
        "\n",
        "# Create a heatmap for the confusion matrix\n",
        "plt.figure()\n",
        "sns.heatmap(conf_matrix, annot=True, fmt='d', cmap='Blues')\n",
        "plt.title(\"Confusion Matrix\")\n",
        "plt.xlabel(\"Predicted Labels\")\n",
        "plt.ylabel(\"Actual Labels\")\n",
        "plt.show()"
      ]
    },
    {
      "cell_type": "code",
      "execution_count": null,
      "metadata": {
        "colab": {
          "base_uri": "https://localhost:8080/"
        },
        "id": "9naJBqw86oSe",
        "outputId": "ad6bcebb-ee73-455e-eb9e-5b48272e575a"
      },
      "outputs": [
        {
          "name": "stdout",
          "output_type": "stream",
          "text": [
            "              precision    recall  f1-score   support\n",
            "\n",
            "         0.0       0.69      0.67      0.68       400\n",
            "         1.0       0.51      0.53      0.52       256\n",
            "\n",
            "    accuracy                           0.62       656\n",
            "   macro avg       0.60      0.60      0.60       656\n",
            "weighted avg       0.62      0.62      0.62       656\n",
            "\n"
          ]
        }
      ],
      "source": [
        "print(classification_report(y_test,y_pred))"
      ]
    },
    {
      "cell_type": "code",
      "execution_count": null,
      "metadata": {
        "colab": {
          "base_uri": "https://localhost:8080/",
          "height": 262
        },
        "id": "9EhX1DlAZ4v_",
        "outputId": "d4c7fde8-69d4-49f6-ded6-96f998e22eaf"
      },
      "outputs": [
        {
          "name": "stdout",
          "output_type": "stream",
          "text": [
            "                                    \u001b[1mML Algorithms Comparison                                    \n"
          ]
        },
        {
          "ename": "NameError",
          "evalue": "ignored",
          "output_type": "error",
          "traceback": [
            "\u001b[0;31m---------------------------------------------------------------------------\u001b[0m",
            "\u001b[0;31mNameError\u001b[0m                                 Traceback (most recent call last)",
            "\u001b[0;32m<ipython-input-9-192f106fc889>\u001b[0m in \u001b[0;36m<cell line: 4>\u001b[0;34m()\u001b[0m\n\u001b[1;32m      2\u001b[0m \u001b[0;34m\u001b[0m\u001b[0m\n\u001b[1;32m      3\u001b[0m \u001b[0mprint\u001b[0m\u001b[0;34m(\u001b[0m\u001b[0;34m'\\033[1mML Algorithms Comparison'\u001b[0m\u001b[0;34m.\u001b[0m\u001b[0mcenter\u001b[0m\u001b[0;34m(\u001b[0m\u001b[0;36m100\u001b[0m\u001b[0;34m)\u001b[0m\u001b[0;34m)\u001b[0m\u001b[0;34m\u001b[0m\u001b[0;34m\u001b[0m\u001b[0m\n\u001b[0;32m----> 4\u001b[0;31m \u001b[0mplt\u001b[0m\u001b[0;34m.\u001b[0m\u001b[0mfigure\u001b[0m\u001b[0;34m(\u001b[0m\u001b[0mfigsize\u001b[0m\u001b[0;34m=\u001b[0m\u001b[0;34m[\u001b[0m\u001b[0;36m12\u001b[0m\u001b[0;34m,\u001b[0m\u001b[0;36m8\u001b[0m\u001b[0;34m]\u001b[0m\u001b[0;34m)\u001b[0m\u001b[0;34m\u001b[0m\u001b[0;34m\u001b[0m\u001b[0m\n\u001b[0m\u001b[1;32m      5\u001b[0m \u001b[0msns\u001b[0m\u001b[0;34m.\u001b[0m\u001b[0mheatmap\u001b[0m\u001b[0;34m(\u001b[0m\u001b[0mmodeldf\u001b[0m\u001b[0;34m,\u001b[0m \u001b[0mannot\u001b[0m\u001b[0;34m=\u001b[0m\u001b[0;32mTrue\u001b[0m\u001b[0;34m,\u001b[0m \u001b[0mvmin\u001b[0m\u001b[0;34m=\u001b[0m\u001b[0;36m60\u001b[0m\u001b[0;34m,\u001b[0m \u001b[0mvmax\u001b[0m\u001b[0;34m=\u001b[0m\u001b[0;36m95\u001b[0m\u001b[0;34m,\u001b[0m \u001b[0mcmap\u001b[0m\u001b[0;34m=\u001b[0m\u001b[0;34m'Blues'\u001b[0m\u001b[0;34m,\u001b[0m \u001b[0mfmt\u001b[0m\u001b[0;34m=\u001b[0m\u001b[0;34m'.1f'\u001b[0m\u001b[0;34m)\u001b[0m\u001b[0;34m\u001b[0m\u001b[0;34m\u001b[0m\u001b[0m\n\u001b[1;32m      6\u001b[0m \u001b[0mplt\u001b[0m\u001b[0;34m.\u001b[0m\u001b[0mshow\u001b[0m\u001b[0;34m(\u001b[0m\u001b[0;34m)\u001b[0m\u001b[0;34m\u001b[0m\u001b[0;34m\u001b[0m\u001b[0m\n",
            "\u001b[0;31mNameError\u001b[0m: name 'plt' is not defined"
          ]
        }
      ],
      "source": [
        "#Comparing all the models Scores\n",
        "\n",
        "print('\\033[1mML Algorithms Comparison'.center(100))\n",
        "plt.figure(figsize=[12,8])\n",
        "sns.heatmap(modeldf, annot=True, vmin=60, vmax=95, cmap='Blues', fmt='.1f')\n",
        "plt.show()"
      ]
    },
    {
      "cell_type": "markdown",
      "metadata": {
        "id": "dmRGjYLYITIJ"
      },
      "source": [
        "## ROC (Receiver Operating Characteristic)"
      ]
    },
    {
      "cell_type": "code",
      "execution_count": null,
      "metadata": {
        "colab": {
          "base_uri": "https://localhost:8080/",
          "height": 245
        },
        "id": "qHpke1tXIjQy",
        "outputId": "2a5fb963-a764-4629-d4f6-55345e24024b"
      },
      "outputs": [
        {
          "ename": "NameError",
          "evalue": "ignored",
          "output_type": "error",
          "traceback": [
            "\u001b[0;31m---------------------------------------------------------------------------\u001b[0m",
            "\u001b[0;31mNameError\u001b[0m                                 Traceback (most recent call last)",
            "\u001b[0;32m<ipython-input-10-a45da5e47b97>\u001b[0m in \u001b[0;36m<cell line: 3>\u001b[0;34m()\u001b[0m\n\u001b[1;32m      1\u001b[0m \u001b[0;31m# The highest accuracry is  Random Forest model with value of 63, the Evaluate the model using ROC Graph\u001b[0m\u001b[0;34m\u001b[0m\u001b[0;34m\u001b[0m\u001b[0m\n\u001b[1;32m      2\u001b[0m \u001b[0;34m\u001b[0m\u001b[0m\n\u001b[0;32m----> 3\u001b[0;31m \u001b[0mclassifier\u001b[0m\u001b[0;34m.\u001b[0m\u001b[0mfit\u001b[0m\u001b[0;34m(\u001b[0m\u001b[0mX_train_resampled\u001b[0m\u001b[0;34m,\u001b[0m \u001b[0my_train_resampled\u001b[0m\u001b[0;34m)\u001b[0m\u001b[0;34m\u001b[0m\u001b[0;34m\u001b[0m\u001b[0m\n\u001b[0m\u001b[1;32m      4\u001b[0m \u001b[0mprobs\u001b[0m \u001b[0;34m=\u001b[0m \u001b[0mclassifier\u001b[0m\u001b[0;34m.\u001b[0m\u001b[0mpredict_proba\u001b[0m\u001b[0;34m(\u001b[0m\u001b[0mX_test\u001b[0m\u001b[0;34m)\u001b[0m\u001b[0;34m\u001b[0m\u001b[0;34m\u001b[0m\u001b[0m\n\u001b[1;32m      5\u001b[0m \u001b[0mprobs\u001b[0m \u001b[0;34m=\u001b[0m \u001b[0mprobs\u001b[0m\u001b[0;34m[\u001b[0m\u001b[0;34m:\u001b[0m\u001b[0;34m,\u001b[0m \u001b[0;36m1\u001b[0m\u001b[0;34m]\u001b[0m\u001b[0;34m\u001b[0m\u001b[0;34m\u001b[0m\u001b[0m\n",
            "\u001b[0;31mNameError\u001b[0m: name 'classifier' is not defined"
          ]
        }
      ],
      "source": [
        "# The highest accuracry is  Random Forest model with value of 64, the Evaluate the model using ROC Graph\n",
        "\n",
        "classifier.fit(X_train_resampled, y_train_resampled)\n",
        "probs = classifier.predict_proba(X_test)\n",
        "probs = probs[:, 1]\n",
        "classifier_roc_auc = accuracy_score(y_test, y_pred )\n",
        "\n",
        "\n",
        "rf_fpr, rf_tpr, rf_thresholds = roc_curve(y_test, classifier.predict_proba(X_test)[:,1])\n",
        "plt.figure(figsize=(14, 6))\n",
        "\n",
        "# Plot Random Forest ROC\n",
        "plt.plot(rf_fpr, rf_tpr, label='Random Forest (area = %0.2f)' % classifier_roc_auc)\n",
        "# Plot Base Rate ROC\n",
        "plt.plot([0,1], [0,1],label='Base Rate' 'k--')\n",
        "\n",
        "plt.xlim([0.0, 1.0])\n",
        "plt.ylim([0.0, 1.05])\n",
        "\n",
        "\n",
        "\n",
        "plt.ylabel('True Positive Rate \\n',horizontalalignment=\"center\",fontstyle = \"normal\", fontsize = \"medium\", fontfamily = \"sans-serif\")\n",
        "plt.xlabel('\\nFalse Positive Rate \\n',horizontalalignment=\"center\",fontstyle = \"normal\", fontsize = \"medium\", fontfamily = \"sans-serif\")\n",
        "plt.title('ROC Graph \\n',horizontalalignment=\"center\", fontstyle = \"normal\", fontsize = \"22\", fontfamily = \"sans-serif\")\n",
        "plt.legend(loc=\"lower right\", fontsize = \"medium\")\n",
        "plt.xticks(rotation=0, horizontalalignment=\"center\")\n",
        "plt.yticks(rotation=0, horizontalalignment=\"right\")\n",
        "\n",
        "\n",
        "\n",
        "plt.show()"
      ]
    },
    {
      "cell_type": "markdown",
      "metadata": {
        "id": "ddugma7CjVgA"
      },
      "source": [
        "#saving the model for the app"
      ]
    },
    {
      "cell_type": "code",
      "execution_count": null,
      "metadata": {
        "id": "Nbti7LVnjdGA"
      },
      "outputs": [],
      "source": [
        "import pickle\n",
        "pickle.dump(best_RF, open('model_grad.pkl','wb'))"
      ]
    }
  ],
  "metadata": {
    "colab": {
      "toc_visible": true,
      "provenance": []
    },
    "kernelspec": {
      "display_name": "Python 3",
      "name": "python3"
    },
    "language_info": {
      "name": "python"
    }
  },
  "nbformat": 4,
  "nbformat_minor": 0
}